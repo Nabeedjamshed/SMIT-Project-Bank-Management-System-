{
  "cells": [
    {
      "cell_type": "markdown",
      "id": "0244c5b9-0b7f-405f-8335-833c53e0be10",
      "metadata": {
        "id": "0244c5b9-0b7f-405f-8335-833c53e0be10"
      },
      "source": [
        "1) Area of a Rectangle:\n",
        "Write a Python program to calculate the area of a rectangle. Use the formula:\n",
        "𝐴𝒓𝒆𝒂 = 𝒍𝒆𝒏𝒈𝒕𝒉 × 𝒘𝒊𝒅𝒕𝒉\n",
        "Take length and width as inputs from the user."
      ]
    },
    {
      "cell_type": "code",
      "execution_count": null,
      "id": "a8eefad6-d025-44c9-b029-ea33fed9d7a3",
      "metadata": {
        "id": "a8eefad6-d025-44c9-b029-ea33fed9d7a3",
        "outputId": "adf5ab4a-b77e-4846-f292-f580249f0234"
      },
      "outputs": [
        {
          "name": "stdout",
          "output_type": "stream",
          "text": [
            "1250\n"
          ]
        }
      ],
      "source": [
        "length = int(50)\n",
        "width = int(25)\n",
        "area = length * width\n",
        "print(area)"
      ]
    },
    {
      "cell_type": "markdown",
      "id": "356d0199-89dd-4925-b34c-fa645dcc5993",
      "metadata": {
        "id": "356d0199-89dd-4925-b34c-fa645dcc5993"
      },
      "source": [
        "2) Circumference of a Circle:\n",
        "Write a Python program to calculate the circumference of a circle. Use the formula:\n",
        "𝑪𝒊𝒓𝒄𝒖𝒎𝒇𝒆𝒓𝒆𝒏𝒄𝒆 = 𝟐𝝅𝒓\n",
        "Take the radius r as input from the user."
      ]
    },
    {
      "cell_type": "code",
      "execution_count": null,
      "id": "1c8a391e-4dcf-4ddb-b2e9-178212881281",
      "metadata": {
        "id": "1c8a391e-4dcf-4ddb-b2e9-178212881281",
        "outputId": "e14f5270-da4b-4103-9cbe-aeea59eae655"
      },
      "outputs": [
        {
          "name": "stdout",
          "output_type": "stream",
          "text": [
            "314.0\n"
          ]
        }
      ],
      "source": [
        "radius = 50\n",
        "circumfernence = 2 * 3.14 * 50\n",
        "print(circumfernence)"
      ]
    },
    {
      "cell_type": "markdown",
      "id": "e7e47ed3-0428-4cfb-a24e-29384f12d8cf",
      "metadata": {
        "id": "e7e47ed3-0428-4cfb-a24e-29384f12d8cf"
      },
      "source": [
        "3) Simple Interest:\n",
        "Write a Python program to calculate the simple interest. Use the formula:\n",
        "𝑺𝒊𝒎𝒑𝒍𝒆 𝑰𝒏𝒕𝒆𝒓𝒆𝒔𝒕 = 𝑷𝒓𝒊𝒏𝒄𝒊𝒑𝒂𝒍 × 𝑹𝒂𝒕𝒆 × 𝑻𝒊𝒎𝒆\n",
        "Take Principal, Rate, and Time as inputs from the user."
      ]
    },
    {
      "cell_type": "code",
      "execution_count": null,
      "id": "c7f88661-fd11-4dae-a14c-59e514ef247c",
      "metadata": {
        "id": "c7f88661-fd11-4dae-a14c-59e514ef247c",
        "outputId": "71df5a7b-330c-4b99-b05e-3a9a655b580e"
      },
      "outputs": [
        {
          "name": "stdout",
          "output_type": "stream",
          "text": [
            "30000\n"
          ]
        }
      ],
      "source": [
        "principal = 50\n",
        "rate = 20\n",
        "time = 30\n",
        "calculation = principal * rate * time\n",
        "print( calculation )"
      ]
    },
    {
      "cell_type": "markdown",
      "id": "842db27a-48d3-44b8-a400-1d3f4e101db2",
      "metadata": {
        "id": "842db27a-48d3-44b8-a400-1d3f4e101db2"
      },
      "source": [
        "4) Speed of an Object:\n",
        "Write a Python program to calculate the speed of an object. Use the formula:\n",
        "𝑆𝒑𝒆𝒆𝒅 = 𝑫𝒊𝒔𝒕𝒂𝒏𝒄𝒆 / 𝑻𝒊𝒎𝒆\n",
        "Take Distance and Time as inputs from the user."
      ]
    },
    {
      "cell_type": "code",
      "execution_count": null,
      "id": "a8d70354-bb06-42db-b701-0aafaec400ab",
      "metadata": {
        "id": "a8d70354-bb06-42db-b701-0aafaec400ab",
        "outputId": "aa108625-17ba-498a-abc3-de56cacd82d2"
      },
      "outputs": [
        {
          "name": "stdout",
          "output_type": "stream",
          "text": [
            "60\n"
          ]
        }
      ],
      "source": [
        "distance_km = 30\n",
        "time_hr = 2\n",
        "speed = distance_km * time_hr\n",
        "print (speed)"
      ]
    },
    {
      "cell_type": "markdown",
      "id": "90a33573-9dfd-4ca9-a8dc-1735d3846e76",
      "metadata": {
        "id": "90a33573-9dfd-4ca9-a8dc-1735d3846e76"
      },
      "source": [
        "5) BMI Calculator:\n",
        "Write a Python program to calculate the Body Mass Index (BMI). Use the formula:\n",
        "BMI = 􀯐􀯘􀯜􀯚􀯛􀯧(􀯄􀯚)\n",
        "(􀯁􀯘􀯜􀯚􀯛􀯧).􀰮\n",
        "Take Weight (in kilograms) and Height (in meters) as inputs from the user."
      ]
    },
    {
      "cell_type": "code",
      "execution_count": null,
      "id": "558b0566-564e-49ea-9e6d-fba875934c36",
      "metadata": {
        "id": "558b0566-564e-49ea-9e6d-fba875934c36",
        "outputId": "d5554c33-050e-4b83-c212-a9e7e361d0b4"
      },
      "outputs": [
        {
          "name": "stdout",
          "output_type": "stream",
          "text": [
            "2.6912725874663592\n"
          ]
        }
      ],
      "source": [
        "weight_kg = 70\n",
        "height_mtr = 5.10\n",
        "BMI = weight_kg / (height_mtr**2)\n",
        "print (BMI)"
      ]
    },
    {
      "cell_type": "markdown",
      "id": "836f9e65-e045-40dc-aca6-c16aa5fb523e",
      "metadata": {
        "id": "836f9e65-e045-40dc-aca6-c16aa5fb523e"
      },
      "source": [
        "6) Force Using Newton's Second Law:\n",
        "Write a Python program to calculate the force on an object. Use the formula:\n",
        "Take m (mass in kilograms) and a (acceleration in meters/second²) as inputs from the\n",
        "user."
      ]
    },
    {
      "cell_type": "code",
      "execution_count": null,
      "id": "357df759-5979-4414-93d3-ee7261183832",
      "metadata": {
        "id": "357df759-5979-4414-93d3-ee7261183832",
        "outputId": "410ccdf9-1d0f-407a-eb8f-269a684f2f64"
      },
      "outputs": [
        {
          "name": "stdout",
          "output_type": "stream",
          "text": [
            "41.32231404958677\n"
          ]
        }
      ],
      "source": [
        "Principal_amount = 50\n",
        "annual_interest_rate = 0.3\n",
        "number_interest = 3\n",
        "time_years = 5\n",
        "calculation = Principal_amount *  ( 1 + (annual_interest_rate/number_interest))**(number_interest-time_years)\n",
        "print( calculation )"
      ]
    },
    {
      "cell_type": "markdown",
      "id": "28dafb51-2ca8-417b-bcfb-fd10fda8a4f2",
      "metadata": {
        "id": "28dafb51-2ca8-417b-bcfb-fd10fda8a4f2"
      },
      "source": [
        "# Work Done by a Force:"
      ]
    },
    {
      "cell_type": "code",
      "execution_count": null,
      "id": "0491e565-ea39-42a3-890e-9e0a1029e8c3",
      "metadata": {
        "id": "0491e565-ea39-42a3-890e-9e0a1029e8c3",
        "outputId": "61c20ddb-9e25-4101-b671-6fdea3b6d755"
      },
      "outputs": [
        {
          "name": "stdout",
          "output_type": "stream",
          "text": [
            "21.01287955270919\n"
          ]
        }
      ],
      "source": []
    },
    {
      "cell_type": "code",
      "execution_count": null,
      "id": "4de822a7-426e-44da-8f1c-99e20c9ef5d6",
      "metadata": {
        "id": "4de822a7-426e-44da-8f1c-99e20c9ef5d6",
        "outputId": "e216f5d4-3761-4314-b794-3fcb5ed3294b"
      },
      "outputs": [
        {
          "name": "stdin",
          "output_type": "stream",
          "text": [
            " what is yr weight?:  120\n",
            "(K)g lb\n"
          ]
        },
        {
          "name": "stdout",
          "output_type": "stream",
          "text": [
            "54.0\n"
          ]
        }
      ],
      "source": [
        "weight = float(input(\" what is yr weight?: \"))\n",
        "unit = input(\"(K)g\" or \"(L)\").lower()\n",
        "if unit == \"K\":\n",
        "    converted = weight / 0.45\n",
        "    print (converted )\n",
        "else:\n",
        "    converted = weight * 0.45\n",
        "    print(converted )\n",
        "\n"
      ]
    },
    {
      "cell_type": "markdown",
      "id": "1fa9cf36-395a-44ba-81bb-f73ce25af4da",
      "metadata": {
        "id": "1fa9cf36-395a-44ba-81bb-f73ce25af4da"
      },
      "source": [
        "8) Perimeter of a Triangle:\n",
        "Write a Python program to calculate the perimeter of a triangle. Use the formula:\n",
        "𝑷𝒆𝒓𝒊𝒎𝒆𝒕𝒆𝒓 = 𝒂 + 𝒃 + 𝒄\n",
        "Take a, b, and c (lengths of the three sides) as inputs from the user."
      ]
    },
    {
      "cell_type": "code",
      "execution_count": null,
      "id": "4adbcc90-1517-4851-a88f-ebb73f6a5cf2",
      "metadata": {
        "id": "4adbcc90-1517-4851-a88f-ebb73f6a5cf2",
        "outputId": "0fbdc0a6-aebc-4d4c-d67c-ddf9ea3039fd"
      },
      "outputs": [
        {
          "name": "stdout",
          "output_type": "stream",
          "text": [
            " the perimeter is 47\n"
          ]
        }
      ],
      "source": [
        "a= 12\n",
        "b= 15\n",
        "c= 20\n",
        "sum =  a + b + c\n",
        "print(f\" the perimeter is {sum}\")"
      ]
    },
    {
      "cell_type": "markdown",
      "id": "94133914-66df-4f01-b0e4-b5d119495ece",
      "metadata": {
        "id": "94133914-66df-4f01-b0e4-b5d119495ece"
      },
      "source": [
        "9) Volume of a Sphere:\n",
        "Write a Python program to calculate the volume of a sphere. Use the formula:\n",
        "4/3 (pie)(r)*3\n",
        "Take r (radius) as input from the user."
      ]
    },
    {
      "cell_type": "code",
      "execution_count": null,
      "id": "db776b66-956f-48a0-bfea-3a80987c63fd",
      "metadata": {
        "id": "db776b66-956f-48a0-bfea-3a80987c63fd",
        "outputId": "07c9a978-032b-4eb2-f247-30b2861bacf8"
      },
      "outputs": [
        {
          "name": "stdin",
          "output_type": "stream",
          "text": [
            "whats the radius:  10\n"
          ]
        },
        {
          "name": "stdout",
          "output_type": "stream",
          "text": [
            " the volume is 4188.790204786391\n"
          ]
        }
      ],
      "source": [
        "import math\n",
        "\n",
        "radius = int(input(\"whats the radius: \"))\n",
        "volume = 4/3 * math.pi * radius**3\n",
        "print(f\" the volume is {volume}\")"
      ]
    },
    {
      "cell_type": "markdown",
      "id": "9da0ea91-c390-4ffd-b70e-58eec3722e80",
      "metadata": {
        "id": "9da0ea91-c390-4ffd-b70e-58eec3722e80"
      },
      "source": [
        "10) Kinetic Energy:\n",
        "Write a Python program to calculate the kinetic energy of an object. Use the formula:\n",
        "𝑲𝑬 =\n",
        "𝟏\n",
        "𝟐\n",
        "𝒎 𝑽𝟐\n",
        "Take m (mass in kilograms) and v (velocity in meters/second) as inputs from the user."
      ]
    },
    {
      "cell_type": "code",
      "execution_count": null,
      "id": "b4d80eda-fb3b-4444-abc9-ffcecb4ebd86",
      "metadata": {
        "id": "b4d80eda-fb3b-4444-abc9-ffcecb4ebd86",
        "outputId": "c98c7228-9e01-487a-8e87-b1e4b0605062"
      },
      "outputs": [
        {
          "name": "stdin",
          "output_type": "stream",
          "text": [
            "enter the mass :  2\n",
            "enter the velocity 2\n"
          ]
        },
        {
          "name": "stdout",
          "output_type": "stream",
          "text": [
            "8.0\n"
          ]
        }
      ],
      "source": [
        "mass= float(input('enter the mass : '))\n",
        "velocity= float (input('enter the velocity'))\n",
        "KE = mass * velocity ** 2\n",
        "print(KE)"
      ]
    },
    {
      "cell_type": "markdown",
      "id": "29434ea1-d471-499a-bcc9-27cae8d8068a",
      "metadata": {
        "id": "29434ea1-d471-499a-bcc9-27cae8d8068a"
      },
      "source": [
        "11) Quadratic Equation Roots:\n",
        "Write a Python program to find the roots of a quadratic equation. Use the formula:\n",
        "X = 􀬿􀯕±√􀯕􀰮􀬿􀬸􀯔􀯖\n",
        "􀬶􀯔\n",
        "Take a, b, and c as inputs from the user."
      ]
    },
    {
      "cell_type": "code",
      "execution_count": null,
      "id": "f62c5e92-aecf-4c30-b6d6-8bb47d7ce9c8",
      "metadata": {
        "id": "f62c5e92-aecf-4c30-b6d6-8bb47d7ce9c8"
      },
      "outputs": [],
      "source": [
        "a = float(input(\"Enter coefficient a: \"))\n",
        "b = float(input(\"Enter coefficient b: \"))\n",
        "c = float(input(\"Enter coefficient c: \"))\n",
        "value= (b**2 - 4 * a * c)\n",
        "root1=\n",
        "root2=\n"
      ]
    },
    {
      "cell_type": "markdown",
      "id": "ad58251b-8875-4bd7-ac40-a29337470288",
      "metadata": {
        "id": "ad58251b-8875-4bd7-ac40-a29337470288"
      },
      "source": [
        "12) Temperature Conversion:\n",
        "Write a Python program to convert a temperature from Celsius to Fahrenheit. Use the\n",
        "formula:\n",
        "Take C (temperature in Celsius) as input from the user."
      ]
    },
    {
      "cell_type": "code",
      "execution_count": null,
      "id": "967be94d-b849-4530-9b34-b1825786269c",
      "metadata": {
        "id": "967be94d-b849-4530-9b34-b1825786269c",
        "outputId": "628e7ee7-3fec-4662-87af-49208f81115c"
      },
      "outputs": [
        {
          "name": "stdin",
          "output_type": "stream",
          "text": [
            " whats the temp in centigate :  45\n"
          ]
        },
        {
          "name": "stdout",
          "output_type": "stream",
          "text": [
            "138.6\n"
          ]
        }
      ],
      "source": [
        "temp_centi = int(input(\" whats the temp in centigate : \"))\n",
        "\n",
        "conversion = (9/5) * (temp_centi + 32 )\n",
        "print(conversion)"
      ]
    },
    {
      "cell_type": "markdown",
      "id": "f4321c34-8de5-41f3-b016-f109d29ab862",
      "metadata": {
        "id": "f4321c34-8de5-41f3-b016-f109d29ab862"
      },
      "source": [
        "13) Gravitational Force:\n",
        "Write a Python program to calculate the gravitational force between two objects. Use\n",
        "the formula\n",
        "𝑭 = 𝑮\n",
        "𝒎𝟏 ∗ 𝒎𝟐\n",
        "𝒓𝟐\n",
        "m1, m2 are the masses of the objects\n",
        "r = distance between the centers of the objects\n",
        "Take m1, m2 and r as inputs from the user."
      ]
    },
    {
      "cell_type": "code",
      "execution_count": null,
      "id": "ee70d7d6-592c-4889-bba5-481413efb2d9",
      "metadata": {
        "id": "ee70d7d6-592c-4889-bba5-481413efb2d9",
        "outputId": "7de9a5f3-49bd-4b83-efef-33e8eb857c38"
      },
      "outputs": [
        {
          "name": "stdin",
          "output_type": "stream",
          "text": [
            "Enter the mass of the first object (in kilograms):  2\n",
            "Enter the mass of the second object (in kilograms):  2\n",
            "Enter the distance between the centers of the objects (in meters):  2\n"
          ]
        },
        {
          "name": "stdout",
          "output_type": "stream",
          "text": [
            "6.67e-11\n"
          ]
        }
      ],
      "source": [
        "m1 = float(input(\"Enter the mass of the first object (in kilograms): \"))\n",
        "m2 = float(input(\"Enter the mass of the second object (in kilograms): \"))\n",
        "r = float(input(\"Enter the distance between the centers of the objects (in meters): \"))\n",
        "G= 6.67e-11\n",
        "gravitational_force = (G * m1 * m2) / (r ** 2)\n",
        "print(gravitational_force)"
      ]
    },
    {
      "cell_type": "markdown",
      "id": "f810a858-13c9-42a8-9787-3e5e9ae607b9",
      "metadata": {
        "id": "f810a858-13c9-42a8-9787-3e5e9ae607b9"
      },
      "source": [
        "14) Volume of a Cylinder:\n",
        "Write a Python program to calculate the volume of a cylinder. Use the formula:\n",
        "𝑽𝒐𝒍𝒖𝒎𝒆 = 𝝅𝒓𝟐𝒉\n",
        "Take radius(r) and height(h) as inputs from the user"
      ]
    },
    {
      "cell_type": "code",
      "execution_count": null,
      "id": "32902b37-8714-43c0-871e-0d77330bb209",
      "metadata": {
        "id": "32902b37-8714-43c0-871e-0d77330bb209",
        "outputId": "f3d2c554-7eed-4e5f-d354-423888a1f2da"
      },
      "outputs": [
        {
          "name": "stdin",
          "output_type": "stream",
          "text": [
            "Enter the radius of the cylinder (in units):  2\n",
            "Enter the height of the cylinder (in units):  2\n"
          ]
        },
        {
          "name": "stdout",
          "output_type": "stream",
          "text": [
            "25.132741228718345\n"
          ]
        }
      ],
      "source": [
        "import math\n",
        "radius = float(input(\"Enter the radius of the cylinder (in units): \"))\n",
        "height = float(input(\"Enter the height of the cylinder (in units): \"))\n",
        "volume = math.pi * radius**2 * height\n",
        "print(volume)"
      ]
    },
    {
      "cell_type": "markdown",
      "id": "efcba123-faee-4d0d-ac3f-1a85739783d3",
      "metadata": {
        "id": "efcba123-faee-4d0d-ac3f-1a85739783d3"
      },
      "source": [
        "15) Pressure:\n",
        "Write a Python program to calculate the pressure exerted by a force on a surface. Use\n",
        "the formula:\n",
        "𝑷 =\n",
        "𝑭\n",
        "𝑨\n",
        "P = pressure\n",
        "F = force\n",
        "A = area\n",
        "Take F(force) and A(area) as inputs from the user."
      ]
    },
    {
      "cell_type": "code",
      "execution_count": null,
      "id": "7c307e20-ece9-42b6-8424-a2920d1b4e98",
      "metadata": {
        "id": "7c307e20-ece9-42b6-8424-a2920d1b4e98",
        "outputId": "351d42cf-7f90-412a-bdf2-f29a4ee8c91e"
      },
      "outputs": [
        {
          "name": "stdin",
          "output_type": "stream",
          "text": [
            "Enter the force applied (in Newtons):  2\n",
            "Enter the area (in square meters):  2\n"
          ]
        },
        {
          "name": "stdout",
          "output_type": "stream",
          "text": [
            "1.0\n"
          ]
        }
      ],
      "source": [
        "force = float(input(\"Enter the force applied (in Newtons): \"))\n",
        "area = float(input(\"Enter the area (in square meters): \"))\n",
        "pressure = force / area\n",
        "print(pressure)"
      ]
    },
    {
      "cell_type": "markdown",
      "id": "1fbc7af6-95df-4bcb-b575-a6a586aaa5de",
      "metadata": {
        "id": "1fbc7af6-95df-4bcb-b575-a6a586aaa5de"
      },
      "source": [
        "16) Electric Power:\n",
        "Write a Python program to calculate the electric power consumed. Use the formula:\n",
        "where:\n",
        "P = power\n",
        "V = voltage\n",
        "I = current\n",
        "Take V(voltage) and I(current) as inputs from the user."
      ]
    },
    {
      "cell_type": "code",
      "execution_count": null,
      "id": "20d2f9fe-80e7-4654-a3a8-2a636ef36e55",
      "metadata": {
        "id": "20d2f9fe-80e7-4654-a3a8-2a636ef36e55",
        "outputId": "4b9ad79c-9510-40c4-e6a3-b281ec809449"
      },
      "outputs": [
        {
          "name": "stdin",
          "output_type": "stream",
          "text": [
            "Enter the voltage (in Volts):  2\n",
            "Enter the current (in Amperes):  2\n"
          ]
        },
        {
          "name": "stdout",
          "output_type": "stream",
          "text": [
            "4.0\n"
          ]
        }
      ],
      "source": [
        "voltage = float(input(\"Enter the voltage (in Volts): \"))\n",
        "current = float(input(\"Enter the current (in Amperes): \"))\n",
        "power = voltage * current\n",
        "print(power)"
      ]
    },
    {
      "cell_type": "markdown",
      "id": "fa0ed7b8-25f2-42cc-8f86-4c351541809a",
      "metadata": {
        "id": "fa0ed7b8-25f2-42cc-8f86-4c351541809a"
      },
      "source": [
        "17) Perimeter of a Circle (Circumference):\n",
        "Write a Python program to calculate the perimeter (circumference) of a circle. Use the\n",
        "formula:\n",
        "Take r (radius) as input from the user."
      ]
    },
    {
      "cell_type": "code",
      "execution_count": null,
      "id": "3b953f28-428e-4fba-82ac-915520153a5d",
      "metadata": {
        "id": "3b953f28-428e-4fba-82ac-915520153a5d",
        "outputId": "05b8fd21-3b98-4420-8cee-7b6c64b4b16e"
      },
      "outputs": [
        {
          "name": "stdin",
          "output_type": "stream",
          "text": [
            "Enter the radius of the circle (in units):  2\n"
          ]
        },
        {
          "name": "stdout",
          "output_type": "stream",
          "text": [
            "12.566370614359172\n"
          ]
        }
      ],
      "source": [
        "import math\n",
        "radius = float(input(\"Enter the radius of the circle (in units): \"))\n",
        "circumference = 2 * math.pi * radius\n",
        "print(circumference)"
      ]
    },
    {
      "cell_type": "markdown",
      "id": "e07a8c16-7a2d-465e-8021-a2898d75dab0",
      "metadata": {
        "id": "e07a8c16-7a2d-465e-8021-a2898d75dab0"
      },
      "source": [
        "18) Future Value in Savings:\n",
        "Write a Python program to calculate the future value of an investment. Use the formula:\n",
        "𝐹𝑉 = 𝑃𝑉(1 + 𝑟)􀯧\n",
        "where:\n",
        "o FV= future value\n",
        "o PV= present value\n",
        "o r= annual interest rate (as a decimal)\n",
        "o t= time in years\n",
        "Take PV, r, and t as inputs from the user."
      ]
    },
    {
      "cell_type": "code",
      "execution_count": null,
      "id": "51c4e6ce-5da4-4985-9131-023b8bc354d4",
      "metadata": {
        "id": "51c4e6ce-5da4-4985-9131-023b8bc354d4",
        "outputId": "2165e8d8-3d8e-4a45-ad9c-d7952e63420c"
      },
      "outputs": [
        {
          "name": "stdin",
          "output_type": "stream",
          "text": [
            "Enter the present value of the investment :  2\n",
            "Enter the annual interest rate:  2\n",
            "Enter the time the money is invested for :  2\n"
          ]
        },
        {
          "name": "stdout",
          "output_type": "stream",
          "text": [
            "18.0\n"
          ]
        }
      ],
      "source": [
        "present_value = float(input(\"Enter the present value of the investment : \"))\n",
        "interest_rate = float(input(\"Enter the annual interest rate: \"))\n",
        "time_years = float(input(\"Enter the time the money is invested for : \"))\n",
        "future_value = present_value * (1 + interest_rate) ** time_years\n",
        "print(future_value)"
      ]
    },
    {
      "cell_type": "markdown",
      "id": "f77bb533-073c-4e0c-8bcb-a6a7273f47d0",
      "metadata": {
        "id": "f77bb533-073c-4e0c-8bcb-a6a7273f47d0"
      },
      "source": [
        "19) Work Done by a Force:\n",
        "Write a Python program to calculate the work done by a force. Use the formula:\n",
        "where:\n",
        "W = work done\n",
        "f= force\n",
        "d = distance\n",
        "theta = angle between force and direction of movement (in degrees)\n",
        "Take f, d, and θ as inputs from the user."
      ]
    },
    {
      "cell_type": "code",
      "execution_count": null,
      "id": "3f7f276e-46fa-44a6-acc9-7dd6e965af60",
      "metadata": {
        "id": "3f7f276e-46fa-44a6-acc9-7dd6e965af60",
        "outputId": "4239bfbf-2923-4f6f-e2b9-e24551684629"
      },
      "outputs": [
        {
          "name": "stdout",
          "output_type": "stream",
          "text": [
            "21.01287955270919\n"
          ]
        }
      ],
      "source": [
        "import math\n",
        "force = 20\n",
        "distance_mtr  = 2\n",
        "angle = 45\n",
        "conversion = force * distance_mtr * math.cos(angle)\n",
        "print( conversion)"
      ]
    },
    {
      "cell_type": "markdown",
      "id": "386d147f-b72f-466a-9c7a-821e517f9f0e",
      "metadata": {
        "id": "386d147f-b72f-466a-9c7a-821e517f9f0e"
      },
      "source": [
        "20) Heat Transfer:\n",
        "Write a Python program to calculate the amount of heat transferred. Use the formula:\n",
        "𝑄 = 𝑚𝑐 (ΔT)\n",
        "where:\n",
        "Q= heat transfer\n",
        "m = mass\n",
        "c = specific heat capacity\n",
        "ΔT\n",
        "Take m, c, T as inputs from the user."
      ]
    },
    {
      "cell_type": "code",
      "execution_count": null,
      "id": "5b4a075e-e11c-4193-b4af-1ff42dc9fb07",
      "metadata": {
        "id": "5b4a075e-e11c-4193-b4af-1ff42dc9fb07",
        "outputId": "fefbdac1-864d-421c-ca0b-1677c7327d7c"
      },
      "outputs": [
        {
          "name": "stdin",
          "output_type": "stream",
          "text": [
            "Enter the mass of the substance:  2\n",
            "Enter the specific heat capacity:  2\n",
            "Enter the temperature change :  2\n"
          ]
        },
        {
          "name": "stdout",
          "output_type": "stream",
          "text": [
            "8.0\n"
          ]
        }
      ],
      "source": [
        "mass = float(input(\"Enter the mass of the substance: \"))\n",
        "specific_heat_capacity = float(input(\"Enter the specific heat capacity: \"))\n",
        "temperature_change = float(input(\"Enter the temperature change : \"))\n",
        "heat_transfer = mass * specific_heat_capacity * temperature_change\n",
        "print(heat_transfer)"
      ]
    },
    {
      "cell_type": "code",
      "execution_count": null,
      "id": "f1bef7d3-52df-4174-b8c0-d99666677ab4",
      "metadata": {
        "id": "f1bef7d3-52df-4174-b8c0-d99666677ab4"
      },
      "outputs": [],
      "source": []
    },
    {
      "cell_type": "code",
      "execution_count": null,
      "id": "e89933b5-d00f-4c50-b946-2798ffb3659d",
      "metadata": {
        "id": "e89933b5-d00f-4c50-b946-2798ffb3659d"
      },
      "outputs": [],
      "source": []
    },
    {
      "cell_type": "code",
      "execution_count": null,
      "id": "316a5fbd-c7b9-4017-8bc0-881e2b28cb5a",
      "metadata": {
        "id": "316a5fbd-c7b9-4017-8bc0-881e2b28cb5a"
      },
      "outputs": [],
      "source": []
    },
    {
      "cell_type": "code",
      "execution_count": null,
      "id": "55698f41-6287-4910-a061-d868ed3108d8",
      "metadata": {
        "id": "55698f41-6287-4910-a061-d868ed3108d8"
      },
      "outputs": [],
      "source": []
    },
    {
      "cell_type": "code",
      "execution_count": null,
      "id": "6a16551f-e07f-459b-b8b3-812c87add240",
      "metadata": {
        "id": "6a16551f-e07f-459b-b8b3-812c87add240"
      },
      "outputs": [],
      "source": []
    },
    {
      "cell_type": "code",
      "execution_count": null,
      "id": "d7da2075-9480-4aeb-af07-9203625f9963",
      "metadata": {
        "id": "d7da2075-9480-4aeb-af07-9203625f9963"
      },
      "outputs": [],
      "source": []
    },
    {
      "cell_type": "code",
      "execution_count": null,
      "id": "6f99234b-860b-4063-b230-4cdffce58172",
      "metadata": {
        "id": "6f99234b-860b-4063-b230-4cdffce58172"
      },
      "outputs": [],
      "source": []
    },
    {
      "cell_type": "code",
      "execution_count": null,
      "id": "4818cc68-0dd0-478f-9d20-500e2ddf37f1",
      "metadata": {
        "id": "4818cc68-0dd0-478f-9d20-500e2ddf37f1"
      },
      "outputs": [],
      "source": []
    },
    {
      "cell_type": "code",
      "execution_count": null,
      "id": "981c95f9-3979-4353-bc9d-1774736b3c92",
      "metadata": {
        "id": "981c95f9-3979-4353-bc9d-1774736b3c92"
      },
      "outputs": [],
      "source": []
    },
    {
      "cell_type": "code",
      "execution_count": null,
      "id": "c0fbc5e6-a8c2-4fa3-a581-2adcbe5ecac3",
      "metadata": {
        "id": "c0fbc5e6-a8c2-4fa3-a581-2adcbe5ecac3"
      },
      "outputs": [],
      "source": []
    }
  ],
  "metadata": {
    "kernelspec": {
      "display_name": "Python 3 (ipykernel)",
      "language": "python",
      "name": "python3"
    },
    "language_info": {
      "codemirror_mode": {
        "name": "ipython",
        "version": 3
      },
      "file_extension": ".py",
      "mimetype": "text/x-python",
      "name": "python",
      "nbconvert_exporter": "python",
      "pygments_lexer": "ipython3",
      "version": "3.12.7"
    },
    "colab": {
      "provenance": []
    }
  },
  "nbformat": 4,
  "nbformat_minor": 5
}