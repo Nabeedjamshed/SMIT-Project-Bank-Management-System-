{
 "cells": [
  {
   "cell_type": "markdown",
   "id": "8a8a803c-3020-4e18-b559-c517c7480272",
   "metadata": {},
   "source": [
    "# OOP Assignment"
   ]
  },
  {
   "cell_type": "markdown",
   "id": "7bbaf3f2-db28-4f67-a006-7a3e09fc27f5",
   "metadata": {},
   "source": [
    "1. Write a Python program to create a class called \"Person\" with properties for \n",
    "name, age and country. Include a method to display the person's details. Create \n",
    "two instances of the 'Person' class and display their details. "
   ]
  },
  {
   "cell_type": "code",
   "execution_count": 1,
   "id": "8e096976-51f8-43fa-8a80-4df397e8f260",
   "metadata": {},
   "outputs": [
    {
     "name": "stdout",
     "output_type": "stream",
     "text": [
      "Name: Nabeed\n",
      "Age: 19\n",
      "Country: Pakistan\n",
      "\n",
      "Name: Ahmed\n",
      "Age: 20\n",
      "Country: UK\n",
      "\n"
     ]
    }
   ],
   "source": [
    "class Person:\n",
    "    def __init__(self, name, age, country):\n",
    "        self.name = name\n",
    "        self.age = age\n",
    "        self.country = country\n",
    "    \n",
    "    def display(self):\n",
    "        print(f\"Name: {self.name}\")\n",
    "        print(f\"Age: {self.age}\")\n",
    "        print(f\"Country: {self.country}\")\n",
    "        print()\n",
    "\n",
    "p1 = Person('Nabeed', 19, 'Pakistan')\n",
    "p1.display()\n",
    "p2 = Person('Ahmed', 20, 'UK')\n",
    "p2.display()"
   ]
  },
  {
   "cell_type": "markdown",
   "id": "c73ef79a-9a27-49d0-ac75-f3345dbe63a4",
   "metadata": {},
   "source": [
    "2. Write a Python program to create a class called 'Rectangle' with properties for \n",
    "width and height. Include two methods to calculate rectangle area and perimeter. \n",
    "Create an instance of the 'Rectangle' class and calculate its area and perimeter. "
   ]
  },
  {
   "cell_type": "code",
   "execution_count": 3,
   "id": "2f6a39dd-0750-4967-aee6-429849b74a0c",
   "metadata": {},
   "outputs": [
    {
     "name": "stdout",
     "output_type": "stream",
     "text": [
      "Area of rectangle is: 15\n",
      "Perimeter of rectangle is: 16\n"
     ]
    }
   ],
   "source": [
    "class Rectangle:\n",
    "    def __init__(self, height, width):\n",
    "        self.height = height\n",
    "        self.width = width\n",
    "    \n",
    "    def area_of_rectangle(self):\n",
    "        self.area = self.height * self.width\n",
    "        print(f\"Area of rectangle is: {self.area}\")\n",
    "\n",
    "    def perimeter_of_rectangle(self):\n",
    "        self.perimeter = 2 * (self.height + self.width)\n",
    "        print(f\"Perimeter of rectangle is: {self.perimeter}\")\n",
    "\n",
    "r1 = Rectangle(5,3)\n",
    "r1.area_of_rectangle()\n",
    "r1.perimeter_of_rectangle()"
   ]
  },
  {
   "cell_type": "markdown",
   "id": "d8fec7b4-3d06-4865-b689-82597b8fb3a4",
   "metadata": {},
   "source": [
    "3. Write a Python program that creates a class called 'Vehicle' with properties for \n",
    "make, model, and year. Include a method to display vehicle details. Create a \n",
    "subclass called 'Car' that inherits from the 'Vehicle' class and includes an \n",
    "additional property for the number of doors. Override the display method to \n",
    "include the number of doors. "
   ]
  },
  {
   "cell_type": "code",
   "execution_count": 4,
   "id": "ccec77ad-3014-4695-be3a-d89db49f2aec",
   "metadata": {},
   "outputs": [
    {
     "name": "stdout",
     "output_type": "stream",
     "text": [
      "Make: Toyota\n",
      "Model: V8\n",
      "Year: 2023\n",
      "\n",
      "Make: Honda\n",
      "Model: Civic\n",
      "Year: 2015\n",
      "No. of doors: 4\n"
     ]
    }
   ],
   "source": [
    "class Vehicle:\n",
    "    def __init__(self, make, model, year):\n",
    "        self.make = make\n",
    "        self.model = model\n",
    "        self.year = year\n",
    "    \n",
    "    def display(self):\n",
    "        print(f\"Make: {self.make}\")\n",
    "        print(f\"Model: {self.model}\")\n",
    "        print(f\"Year: {self.year}\")\n",
    "\n",
    "class Car(Vehicle):\n",
    "    def __init__(self, make, model, year, doors):\n",
    "        super().__init__(make, model, year)\n",
    "        self.doors = doors\n",
    "    \n",
    "    def display(self):\n",
    "        super().display()\n",
    "        print(f'No. of doors: {self.doors}')\n",
    "\n",
    "v1 = Vehicle(\"Toyota\", \"V8\", 2023)\n",
    "v1.display()\n",
    "print()\n",
    "c1 = Car(\"Honda\", \"Civic\", 2015, 4)\n",
    "c1.display()"
   ]
  },
  {
   "cell_type": "markdown",
   "id": "98304196-c3f1-4eb7-8483-d14636e14fa0",
   "metadata": {},
   "source": [
    "4. Write a Python program that creates a class called \"BankAccount\" with \n",
    "properties for account number and balance. Include methods to deposit and \n",
    "withdraw money from the account. Create some instances of the \"BankAccount\" \n",
    "class, deposit some money, and withdraw a portion of it. "
   ]
  },
  {
   "cell_type": "code",
   "execution_count": 5,
   "id": "56ac94c7-835e-4413-b3cf-fa7c8ab1432e",
   "metadata": {},
   "outputs": [
    {
     "name": "stdout",
     "output_type": "stream",
     "text": [
      "Your account has 1000 balance\n",
      "\n",
      "Deposit amount: 800\n",
      "Current Balance: 1800\n",
      "\n",
      "Withdraw amount: 200\n",
      "Current Balance: 1600\n"
     ]
    }
   ],
   "source": [
    "class BankAccount:\n",
    "    def __init__(self, account_no, balance):\n",
    "        self.account_no = account_no\n",
    "        self.balance = balance\n",
    "    \n",
    "    def deposit(self, money):\n",
    "        self.balance += money\n",
    "        print(f\"Deposit amount: {money}\")\n",
    "        print(f\"Current Balance: {self.balance}\")\n",
    "        print()\n",
    "    \n",
    "    def withdraw(self, money):\n",
    "        if(money < 0):\n",
    "            print(\"Enter correct amount\")\n",
    "        elif(money > self.balance):\n",
    "            print(\"Current balance is less than your enter amount\")\n",
    "        else:\n",
    "            self.balance -= money\n",
    "            print(f\"Withdraw amount: {money}\")\n",
    "            print(f\"Current Balance: {self.balance}\")\n",
    "    \n",
    "    def display_balance(self):\n",
    "        print(f\"Your account has {self.balance} balance\")\n",
    "        print()\n",
    "\n",
    "b1 = BankAccount(123456, 1000)\n",
    "b1.display_balance()\n",
    "b1.deposit(800)\n",
    "b1.withdraw(200)"
   ]
  },
  {
   "cell_type": "markdown",
   "id": "59b6cd0f-66b9-4090-8a9f-fe553856927e",
   "metadata": {},
   "source": [
    "5. Write a Python program that creates a class called 'Shape' with a method to \n",
    "calculate the area. Create two subclasses, 'Circle' and 'Triangle', that inherit from \n",
    "the 'Shape' class and override the area calculation method. Create an instance of \n",
    "the 'Circle' class and calculate its area. Similarly, do the same for the 'Triangle' \n",
    "class. "
   ]
  },
  {
   "cell_type": "code",
   "execution_count": 6,
   "id": "b342c3df-cac4-4ade-b881-b768c6f50cd3",
   "metadata": {},
   "outputs": [
    {
     "name": "stdout",
     "output_type": "stream",
     "text": [
      "Area of Circle is: 50.27\n",
      "Area of Triangle is: 6.0\n"
     ]
    }
   ],
   "source": [
    "import math as m\n",
    "class Shape:\n",
    "    def area(self):\n",
    "        raise NotImplementedError(\"Sub Class override this function\")\n",
    "\n",
    "class Circle(Shape):\n",
    "    def __init__(self, radius):\n",
    "        self.radius = radius\n",
    "    \n",
    "    def area(self):\n",
    "        return m.pi*(self.radius**2)\n",
    "\n",
    "class Triangle(Shape):\n",
    "    def __init__(self, breadth, height):\n",
    "        self.breadth = breadth\n",
    "        self.height = height\n",
    "    \n",
    "    def area(self):\n",
    "        return 0.5*(self.breadth*self.height)\n",
    "\n",
    "c1 = Circle(4)\n",
    "area = c1.area()\n",
    "print(f\"Area of Circle is: {round(area,2)}\")\n",
    "t1 = Triangle(3,4)\n",
    "print(f\"Area of Triangle is: {t1.area()}\")"
   ]
  },
  {
   "cell_type": "markdown",
   "id": "5eb54080-25a5-4c1f-8f21-1be5409cf3af",
   "metadata": {},
   "source": [
    "6. Write a Python program that creates a class called 'Employee' with properties \n",
    "for name and salary. Include a method to calculate annual salary. Create a \n",
    "subclass called 'Manager' that inherits from the 'Employee' class and adds an \n",
    "additional property for department. Override the annual salary calculation method \n",
    "to include bonuses for managers. Create two instances of the 'Manager' class \n",
    "and calculate their annual salary. \n"
   ]
  },
  {
   "cell_type": "code",
   "execution_count": 7,
   "id": "cbccc064-12f2-4bca-8b7a-25f80fb90bc0",
   "metadata": {},
   "outputs": [
    {
     "name": "stdout",
     "output_type": "stream",
     "text": [
      "Annual Salary of Nabeed: 2412000\n",
      "Annual Salary of Ashan: 3615000\n"
     ]
    }
   ],
   "source": [
    "class Employee:\n",
    "    def __init__(self, name, salary):\n",
    "        self.name = name\n",
    "        self.salary = salary\n",
    "    \n",
    "    def annual_salary(self):\n",
    "        return 12*self.salary\n",
    "\n",
    "class Manager(Employee):\n",
    "    def __init__(self, name, salary, department, bonus):\n",
    "        super().__init__(name, salary)\n",
    "        self.department = department\n",
    "        self.bonus = bonus\n",
    "    \n",
    "    def annual_salary(self):\n",
    "        return ((12 * self.salary) + self.bonus)\n",
    "\n",
    "m1 = Manager(\"Nabeed\", 200000, \"IT\", 12000)\n",
    "print(f\"Annual Salary of Nabeed: {m1.annual_salary()}\")\n",
    "m2 = Manager(\"Ashan\", 300000, \"Accounts\", 15000)\n",
    "print(f\"Annual Salary of Ashan: {m2.annual_salary()}\")"
   ]
  },
  {
   "cell_type": "markdown",
   "id": "3f1b5c65-b9bb-4afd-bc8d-ccb495b25b86",
   "metadata": {},
   "source": [
    "7. Write a Python program that creates a class `Book` with properties for title, \n",
    "author, and publication year. Include a method to display book details. Create a \n",
    "subclass called 'Ebook' that inherits from the 'Book' class and includes an \n",
    "additional property for book price. Override the display method to include the \n",
    "book price. Create an instance of the 'Ebook' class and display its details. "
   ]
  },
  {
   "cell_type": "code",
   "execution_count": 8,
   "id": "1c956172-1753-4d09-933e-c24413b0061d",
   "metadata": {},
   "outputs": [
    {
     "name": "stdout",
     "output_type": "stream",
     "text": [
      "Title: Eat that frog\n",
      "Author: John Henry\n",
      "Publication Year: 2001\n",
      "Book Price: 1200\n"
     ]
    }
   ],
   "source": [
    "class Book:\n",
    "    def __init__(self, title, author, publication_year):\n",
    "        self.title = title\n",
    "        self.author = author\n",
    "        self.publication_year = publication_year\n",
    "\n",
    "    def display(self):\n",
    "        print(f\"Title: {self.title}\")\n",
    "        print(f\"Author: {self.author}\")\n",
    "        print(f\"Publication Year: {self.publication_year}\")\n",
    "\n",
    "class EBook(Book):\n",
    "    def __init__(self, title, author, publication_year, book_price):\n",
    "        super().__init__(title, author, publication_year)\n",
    "        self.book_price = book_price\n",
    "    \n",
    "    def display(self):\n",
    "        super().display()\n",
    "        print(f\"Book Price: {self.book_price}\")\n",
    "\n",
    "e1 = EBook(\"Eat that frog\", \"John Henry\", 2001, 1200)\n",
    "e1.display()"
   ]
  },
  {
   "cell_type": "markdown",
   "id": "af6b2ac5-961b-4a27-bd27-bb7b27c704a4",
   "metadata": {},
   "source": [
    "8. Write a Python program that creates a class called 'Animal' with properties for \n",
    "species and sound. Include a method to make the animal's sound. Create a \n",
    "subclass called 'Dog' that inherits from the 'Animal' class and adds an additional \n",
    "property for color. Override the make sound method to include the dog's color. \n",
    "Create an instance of the 'Dog' class and make it make its sound. \n"
   ]
  },
  {
   "cell_type": "code",
   "execution_count": 9,
   "id": "9c58a0b6-06fa-4001-b4a0-01a8d0a80f71",
   "metadata": {},
   "outputs": [
    {
     "name": "stdout",
     "output_type": "stream",
     "text": [
      "The brown dog says 'Woof'.\n"
     ]
    }
   ],
   "source": [
    "class Animal:\n",
    "    def __init__(self, species, sound):\n",
    "        self.species = species\n",
    "        self.sound = sound\n",
    "\n",
    "    def make_sound(self):\n",
    "        return f\"The {self.species} makes a '{self.sound}' sound.\"\n",
    "\n",
    "class Dog(Animal):\n",
    "    def __init__(self, species, sound, color):\n",
    "        super().__init__(species, sound)\n",
    "        self.color = color\n",
    "\n",
    "    def make_sound(self):\n",
    "        return f\"The {self.color} dog says '{self.sound}'.\"\n",
    "\n",
    "dog = Dog(species=\"Dog\", sound=\"Woof\", color=\"brown\")\n",
    "print(dog.make_sound())"
   ]
  },
  {
   "cell_type": "markdown",
   "id": "4323862b-5963-44f7-8560-da78fbb8f207",
   "metadata": {},
   "source": [
    "9. Write a Python program that creates a class called Bank with properties for \n",
    "bank names and branches. Include methods to add a branch, remove a branch, \n",
    "and display all branches. Create an instance of the Bank class and perform \n",
    "operations to add and remove branches."
   ]
  },
  {
   "cell_type": "code",
   "execution_count": 10,
   "id": "39eb0ddb-17dd-4639-8537-a33f7ec19ff3",
   "metadata": {},
   "outputs": [
    {
     "name": "stdout",
     "output_type": "stream",
     "text": [
      "branch Name: HBL\n",
      "All Branches:\n",
      "Branch ID: 1\n",
      "Branch ID: 2\n",
      "Branch ID: 3\n",
      "branch Name: HBL\n",
      "All Branches:\n",
      "Branch ID: 1\n",
      "Branch ID: 3\n"
     ]
    }
   ],
   "source": [
    "class Bank:\n",
    "    def __init__(self, name):\n",
    "        self.name = name\n",
    "        self.branches = [] \n",
    "\n",
    "    def add_branch(self, branch):\n",
    "        if branch not in self.branches:\n",
    "            self.branches.append(branch)\n",
    "        else:\n",
    "            print(f\"Branch {branch} already exists.\")\n",
    "\n",
    "    def remove_depart(self, branch):\n",
    "        if branch in self.branches:\n",
    "            self.branches.remove(branch)\n",
    "        else:\n",
    "            print(f\"Branch {branch} does not exist.\")\n",
    "\n",
    "    def display_branches(self):\n",
    "        print(f\"branch Name: {self.name}\")\n",
    "        print(\"All Branches:\")\n",
    "        if self.branches:\n",
    "            for i in self.branches:\n",
    "                print(f\"Branch ID: {i}\")\n",
    "        else:\n",
    "            print(\"No branches available.\")\n",
    "\n",
    "b1 = Bank(\"HBL\")\n",
    "b1.add_branch(1)\n",
    "b1.add_branch(2)\n",
    "b1.add_branch(3)\n",
    "b1.display_branches()\n",
    "b1.remove_depart(2)\n",
    "b1.display_branches()"
   ]
  },
  {
   "cell_type": "markdown",
   "id": "f87d98dd-0a3c-4916-b00b-899b7c92d97d",
   "metadata": {},
   "source": [
    "10. Write a Python program that creates a class called Product with properties for \n",
    "product ID, name, and price. Include a method to calculate the total price by \n",
    "multiplying the price by the quantity. Create a subclass called \n",
    "PersonalCareProduct that inherits from the Product class and adds an additional \n",
    "property for the warranty period. Override the total price calculation method to \n",
    "include the warranty period. Create an instance of the PersonalCareProduct \n",
    "class and calculate its total price. "
   ]
  },
  {
   "cell_type": "code",
   "execution_count": 11,
   "id": "c023f0ab-f885-4ce1-855d-d71f613e9e3b",
   "metadata": {},
   "outputs": [
    {
     "name": "stdout",
     "output_type": "stream",
     "text": [
      "Total price: 40002.0\n"
     ]
    }
   ],
   "source": [
    "class Product:\n",
    "    def __init__(self, product_id, name, price):\n",
    "        self.product_id = product_id\n",
    "        self.name = name\n",
    "        self.price = price\n",
    "    \n",
    "    def total_price(self, quantity):\n",
    "        return self.price * quantity\n",
    "\n",
    "class PersonalCareProduct(Product):\n",
    "    def __init__(self, product_id, name, price, warranty_period):\n",
    "        super().__init__(product_id, name, price)\n",
    "        self. warranty_period = warranty_period\n",
    "\n",
    "    def total_price(self, quantity):\n",
    "        base_price = super().total_price(quantity)\n",
    "        warranty_price = 0.1 * self.warranty_period\n",
    "        ans_price = base_price + warranty_price\n",
    "        return ans_price\n",
    "\n",
    "p1 = PersonalCareProduct(1,'AC', 20000, 20)\n",
    "print(f\"Total price: {p1.total_price(2)}\")"
   ]
  },
  {
   "cell_type": "markdown",
   "id": "6fdcef67-a198-4b72-97c6-a12590e4bf6e",
   "metadata": {},
   "source": [
    "11. Write a Python program that creates a class called BankAccount with \n",
    "properties for account number, account holder name, and balance. Include \n",
    "methods to deposit, withdraw, and transfer money between accounts. Create \n",
    "multiple instances of the BankAccount class and perform operations such as \n",
    "depositing, withdrawing, and transferring money. \n"
   ]
  },
  {
   "cell_type": "code",
   "execution_count": 12,
   "id": "8f62f324-57c9-4327-9f69-912455e9f4ff",
   "metadata": {},
   "outputs": [
    {
     "name": "stdout",
     "output_type": "stream",
     "text": [
      "Nabeed's account balance: $1000.00\n",
      "\n",
      "Nabeed deposited $200.00. Current balance: $1200.00\n",
      "\n",
      "Nabeed withdrew $500.00. Current balance: $700.00\n",
      "\n",
      "Nabeed's account balance: $700.00\n",
      "\n",
      "Ahmed's account balance: $500.00\n",
      "\n",
      "Insufficient balance for Ahmed. Current balance: $500.00\n",
      "\n",
      "Ahmed deposited $300.00. Current balance: $800.00\n",
      "\n",
      "Transferred $400.00 from Nabeed to Ahmed.\n",
      "Nabeed's balance: $300.00\n",
      "Ahmed's balance: $1200.00\n",
      "\n",
      "Nabeed's account balance: $300.00\n",
      "\n",
      "Ahmed's account balance: $1200.00\n",
      "\n",
      "Ahad's account balance: $200.00\n",
      "\n",
      "Ahad deposited $100.00. Current balance: $300.00\n",
      "\n",
      "Transferred $150.00 from Ahad to Nabeed.\n",
      "Ahad's balance: $150.00\n",
      "Nabeed's balance: $450.00\n",
      "\n",
      "Ahad's account balance: $150.00\n",
      "\n",
      "Nabeed's account balance: $450.00\n",
      "\n"
     ]
    }
   ],
   "source": [
    "class BankAccount:\n",
    "    def __init__(self, account_no, name, balance):\n",
    "        self.account_no = account_no\n",
    "        self.name = name\n",
    "        self.balance = balance\n",
    "\n",
    "    def deposit(self, amount):\n",
    "        if amount <= 0:\n",
    "            print(\"Deposit amount must be greater than zero.\")\n",
    "        else:\n",
    "            self.balance += amount\n",
    "            print(f\"{self.name} deposited ${amount:.2f}. Current balance: ${self.balance:.2f}\")\n",
    "        print()\n",
    "\n",
    "    def withdraw(self, amount):\n",
    "        if amount <= 0:\n",
    "            print(\"Withdrawal amount must be greater than zero.\")\n",
    "        elif amount > self.balance:\n",
    "            print(f\"Insufficient balance for {self.name}. Current balance: ${self.balance:.2f}\")\n",
    "        else:\n",
    "            self.balance -= amount\n",
    "            print(f\"{self.name} withdrew ${amount:.2f}. Current balance: ${self.balance:.2f}\")\n",
    "        print()\n",
    "\n",
    "    def transfer_money(self, recipient_account, amount):\n",
    "        if amount <= 0:\n",
    "            print(\"Transfer amount must be greater than zero.\")\n",
    "        elif amount > self.balance:\n",
    "            print(f\"Insufficient balance in {self.name}'s account. Transfer failed.\")\n",
    "        else:\n",
    "            self.balance -= amount\n",
    "            recipient_account.balance += amount\n",
    "            print(f\"Transferred ${amount:.2f} from {self.name} to {recipient_account.name}.\")\n",
    "            print(f\"{self.name}'s balance: ${self.balance:.2f}\")\n",
    "            print(f\"{recipient_account.name}'s balance: ${recipient_account.balance:.2f}\")\n",
    "        print()\n",
    "\n",
    "    def display_balance(self):\n",
    "        print(f\"{self.name}'s account balance: ${self.balance:.2f}\")\n",
    "        print()\n",
    "\n",
    "account1 = BankAccount(123456, \"Nabeed\", 1000)\n",
    "account2 = BankAccount(789012, \"Ahmed\", 500)\n",
    "account3 = BankAccount(345678, \"Ahad\", 200)\n",
    "\n",
    "account1.display_balance()\n",
    "account1.deposit(200)\n",
    "account1.withdraw(500)\n",
    "account1.display_balance()\n",
    "\n",
    "account2.display_balance()\n",
    "account2.withdraw(700) \n",
    "account2.deposit(300)\n",
    "\n",
    "account1.transfer_money(account2, 400)  \n",
    "account1.display_balance()\n",
    "account2.display_balance()\n",
    "\n",
    "account3.display_balance()\n",
    "account3.deposit(100)\n",
    "account3.transfer_money(account1, 150)\n",
    "account3.display_balance()\n",
    "account1.display_balance()\n"
   ]
  },
  {
   "cell_type": "code",
   "execution_count": null,
   "id": "4326e39a-28ac-4337-9415-f1e0a2e9cd9c",
   "metadata": {},
   "outputs": [],
   "source": []
  }
 ],
 "metadata": {
  "kernelspec": {
   "display_name": "Python 3 (ipykernel)",
   "language": "python",
   "name": "python3"
  },
  "language_info": {
   "codemirror_mode": {
    "name": "ipython",
    "version": 3
   },
   "file_extension": ".py",
   "mimetype": "text/x-python",
   "name": "python",
   "nbconvert_exporter": "python",
   "pygments_lexer": "ipython3",
   "version": "3.11.5"
  }
 },
 "nbformat": 4,
 "nbformat_minor": 5
}
