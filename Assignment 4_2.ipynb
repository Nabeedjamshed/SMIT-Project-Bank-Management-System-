{
  "cells": [
    {
      "cell_type": "markdown",
      "id": "cb4b968f-9d5d-4b75-906b-4c3a64e0e24e",
      "metadata": {
        "id": "cb4b968f-9d5d-4b75-906b-4c3a64e0e24e"
      },
      "source": [
        "## Looping Structures"
      ]
    },
    {
      "cell_type": "markdown",
      "id": "778c45f1-dac3-40c3-9a95-05b2eb77a440",
      "metadata": {
        "id": "778c45f1-dac3-40c3-9a95-05b2eb77a440"
      },
      "source": [
        "1. Write a Python program to print the numbers from 1 to 10 using a for loop."
      ]
    },
    {
      "cell_type": "code",
      "execution_count": null,
      "id": "06124c9c-5605-4961-a4e9-4f557f1d19af",
      "metadata": {
        "id": "06124c9c-5605-4961-a4e9-4f557f1d19af",
        "outputId": "6dcd88ea-050d-4604-88fd-d14492961c4d"
      },
      "outputs": [
        {
          "name": "stdout",
          "output_type": "stream",
          "text": [
            "1\n",
            "2\n",
            "3\n",
            "4\n",
            "5\n",
            "6\n",
            "7\n",
            "8\n",
            "9\n",
            "10\n"
          ]
        }
      ],
      "source": [
        "for i in range(1,11):\n",
        "    print(i)"
      ]
    },
    {
      "cell_type": "markdown",
      "id": "11d85364-673e-4e43-9389-71c2f39e2491",
      "metadata": {
        "id": "11d85364-673e-4e43-9389-71c2f39e2491"
      },
      "source": [
        "2. Write a Python program to print the numbers from 20 to 1 using a while loop."
      ]
    },
    {
      "cell_type": "code",
      "execution_count": null,
      "id": "29ef6033-5783-43a9-8833-b9276c2b92e2",
      "metadata": {
        "id": "29ef6033-5783-43a9-8833-b9276c2b92e2",
        "outputId": "ea68d7af-9db3-4b13-9454-011b77da8128"
      },
      "outputs": [
        {
          "name": "stdout",
          "output_type": "stream",
          "text": [
            "20\n",
            "19\n",
            "18\n",
            "17\n",
            "16\n",
            "15\n",
            "14\n",
            "13\n",
            "12\n",
            "11\n",
            "10\n",
            "9\n",
            "8\n",
            "7\n",
            "6\n",
            "5\n",
            "4\n",
            "3\n",
            "2\n",
            "1\n"
          ]
        }
      ],
      "source": [
        "for i in range(20,0,-1):\n",
        "    print(i)"
      ]
    },
    {
      "cell_type": "markdown",
      "id": "73d0d8e9-876c-46a4-95be-73bf23837f4d",
      "metadata": {
        "id": "73d0d8e9-876c-46a4-95be-73bf23837f4d"
      },
      "source": [
        "3. Write a program to print even numbers from 1 to 10."
      ]
    },
    {
      "cell_type": "code",
      "execution_count": null,
      "id": "30495348-09ce-4065-9b72-fbbd9635772a",
      "metadata": {
        "id": "30495348-09ce-4065-9b72-fbbd9635772a",
        "outputId": "46a0ef78-2fa2-4f34-f664-b640a4100213"
      },
      "outputs": [
        {
          "name": "stdout",
          "output_type": "stream",
          "text": [
            "2\n",
            "4\n",
            "6\n",
            "8\n",
            "10\n"
          ]
        }
      ],
      "source": [
        "for i in range(2,11,2):\n",
        "    print(i)"
      ]
    },
    {
      "cell_type": "code",
      "execution_count": null,
      "id": "015d43d3-ca23-4dd5-ae81-88da6e0f0c9b",
      "metadata": {
        "id": "015d43d3-ca23-4dd5-ae81-88da6e0f0c9b",
        "outputId": "59fe4299-9487-435e-bd22-192c407568b1"
      },
      "outputs": [
        {
          "name": "stdout",
          "output_type": "stream",
          "text": [
            "2\n",
            "4\n",
            "6\n",
            "8\n",
            "10\n"
          ]
        }
      ],
      "source": [
        "for i in range(1,11):\n",
        "    if i % 2 ==0 :\n",
        "        print (i)"
      ]
    },
    {
      "cell_type": "markdown",
      "id": "41231873-8d21-49ae-aa63-e0794650a25c",
      "metadata": {
        "id": "41231873-8d21-49ae-aa63-e0794650a25c"
      },
      "source": [
        "4. Write a program that prompts the user to enter a number n and prints all the\n",
        "numbers from 1 to n."
      ]
    },
    {
      "cell_type": "code",
      "execution_count": null,
      "id": "926181f3-97a3-4ff9-be4b-d9f79726e974",
      "metadata": {
        "id": "926181f3-97a3-4ff9-be4b-d9f79726e974",
        "outputId": "46ae61fb-7ded-49d2-e1f2-ea0f7cfdb454"
      },
      "outputs": [
        {
          "name": "stdin",
          "output_type": "stream",
          "text": [
            "enter a number:  2\n"
          ]
        },
        {
          "name": "stdout",
          "output_type": "stream",
          "text": [
            "1\n",
            "2\n"
          ]
        }
      ],
      "source": [
        "n= int(input(\"enter a number: \"))\n",
        "for i in range(1,n+1):\n",
        "    print(i)"
      ]
    },
    {
      "cell_type": "markdown",
      "id": "039daa04-c518-4df3-9ced-73971efac7b3",
      "metadata": {
        "id": "039daa04-c518-4df3-9ced-73971efac7b3"
      },
      "source": [
        "5. Write a program that prompts the user to enter a number n, and then prints all the\n",
        "odd numbers between 1 and n."
      ]
    },
    {
      "cell_type": "code",
      "execution_count": null,
      "id": "f7aadaf5-f82b-4f00-ad6b-b2c4b62325b5",
      "metadata": {
        "id": "f7aadaf5-f82b-4f00-ad6b-b2c4b62325b5",
        "outputId": "322c52d1-3359-4d81-d034-6b58e769b676"
      },
      "outputs": [
        {
          "name": "stdin",
          "output_type": "stream",
          "text": [
            "enter a number:  6\n"
          ]
        },
        {
          "name": "stdout",
          "output_type": "stream",
          "text": [
            "1\n",
            "3\n",
            "5\n"
          ]
        }
      ],
      "source": [
        "n= int(input(\"enter a number: \"))\n",
        "for i in range(1,n+1,2):\n",
        "    print(i)"
      ]
    },
    {
      "cell_type": "code",
      "execution_count": null,
      "id": "e45c00d0-064d-47f9-a7ae-f22846862af3",
      "metadata": {
        "id": "e45c00d0-064d-47f9-a7ae-f22846862af3",
        "outputId": "9f434825-4588-4635-ded1-a55232dd901e"
      },
      "outputs": [
        {
          "name": "stdin",
          "output_type": "stream",
          "text": [
            "enter a number:  11\n"
          ]
        },
        {
          "name": "stdout",
          "output_type": "stream",
          "text": [
            "1\n",
            "3\n",
            "5\n",
            "7\n",
            "9\n",
            "11\n"
          ]
        }
      ],
      "source": [
        "n= int(input(\"enter a number: \"))\n",
        "for i in range(1,n+1):\n",
        "    if i % 2 != 0:\n",
        "        print(i)"
      ]
    },
    {
      "cell_type": "markdown",
      "id": "9c42c9a3-7775-42b0-a080-63ef38acf668",
      "metadata": {
        "id": "9c42c9a3-7775-42b0-a080-63ef38acf668"
      },
      "source": [
        "6. Write a program that prints 'Happy Birthday!' five times on screen."
      ]
    },
    {
      "cell_type": "code",
      "execution_count": null,
      "id": "2492688b-71bf-4e39-ac71-76ab40e15b5d",
      "metadata": {
        "id": "2492688b-71bf-4e39-ac71-76ab40e15b5d",
        "outputId": "a6346dc9-4cfe-44a6-afa5-141b76c79c66"
      },
      "outputs": [
        {
          "name": "stdout",
          "output_type": "stream",
          "text": [
            "Happy Birthday\n",
            "Happy Birthday\n",
            "Happy Birthday\n",
            "Happy Birthday\n",
            "Happy Birthday\n"
          ]
        }
      ],
      "source": [
        "Hb = (\"Happy Birthday\")\n",
        "for i in range(5):\n",
        "    print(Hb)"
      ]
    },
    {
      "cell_type": "markdown",
      "id": "b51747a3-edd3-4ea2-8301-a7ffb50e2cd9",
      "metadata": {
        "id": "b51747a3-edd3-4ea2-8301-a7ffb50e2cd9"
      },
      "source": [
        "7. Write a program that takes a number n as input from the user and generates the first\n",
        "n terms of the series formed by squaring the natural numbers.\n",
        "Sample output\n",
        "Enter a number: 6\n",
        "The first 6 terms of the series are:\n",
        "1 4 9 16 25 36"
      ]
    },
    {
      "cell_type": "code",
      "execution_count": null,
      "id": "cc7f8b55-e3a9-4115-a071-26f9f0f9c837",
      "metadata": {
        "id": "cc7f8b55-e3a9-4115-a071-26f9f0f9c837",
        "outputId": "79c8f44d-c093-4b32-8cbe-7b98360fad35"
      },
      "outputs": [
        {
          "name": "stdin",
          "output_type": "stream",
          "text": [
            "the number :  6\n"
          ]
        },
        {
          "name": "stdout",
          "output_type": "stream",
          "text": [
            "6\n",
            "1,4,9,16,25,36,"
          ]
        }
      ],
      "source": [
        "n= int(input(\"the number : \"))\n",
        "print ( n)\n",
        "for i in range(1,n+1):\n",
        "    print(i**2,end=\",\")\n"
      ]
    },
    {
      "cell_type": "markdown",
      "id": "3ebd8790-dd1e-449c-a6b2-45d4b5b27c70",
      "metadata": {
        "id": "3ebd8790-dd1e-449c-a6b2-45d4b5b27c70"
      },
      "source": [
        "8. Write a program that prompts the user to input a number and prints its multiplication\n",
        "table."
      ]
    },
    {
      "cell_type": "code",
      "execution_count": null,
      "id": "3d21710a-f270-4869-9358-8df18a187739",
      "metadata": {
        "id": "3d21710a-f270-4869-9358-8df18a187739",
        "outputId": "9b30826e-aeb4-40fc-bb9a-dfc817e215cd"
      },
      "outputs": [
        {
          "name": "stdin",
          "output_type": "stream",
          "text": [
            "the number :  5\n"
          ]
        },
        {
          "name": "stdout",
          "output_type": "stream",
          "text": [
            "5\n",
            " 5* 1 = 5\n",
            " 5* 2 = 10\n",
            " 5* 3 = 15\n",
            " 5* 4 = 20\n",
            " 5* 5 = 25\n",
            " 5* 6 = 30\n",
            " 5* 7 = 35\n",
            " 5* 8 = 40\n",
            " 5* 9 = 45\n",
            " 5* 10 = 50\n"
          ]
        }
      ],
      "source": [
        "n= int(input(\"the number : \"))\n",
        "print ( n)\n",
        "for i in range(1,11):\n",
        "    print(f' {n}* {i} = {n*i}')"
      ]
    },
    {
      "cell_type": "markdown",
      "id": "381941ac-2341-4c43-8ce8-d62528ffb8a7",
      "metadata": {
        "id": "381941ac-2341-4c43-8ce8-d62528ffb8a7"
      },
      "source": [
        "9. Write a Python program to print the first 8 terms of an arithmetic progression starting\n",
        "with 3 and having a common difference of 4.\n",
        "The program should output the following sequence:\n",
        "3 7 11 15 19 23 27 31"
      ]
    },
    {
      "cell_type": "code",
      "execution_count": null,
      "id": "1a33f43f-d656-4185-a672-7824fa888349",
      "metadata": {
        "id": "1a33f43f-d656-4185-a672-7824fa888349",
        "outputId": "f3b74625-6821-43f1-ab91-68cbd962add2"
      },
      "outputs": [
        {
          "name": "stdout",
          "output_type": "stream",
          "text": [
            "3...7...11...15...19...23...27...31..."
          ]
        }
      ],
      "source": [
        "f_term = 3\n",
        "diff_term = 4\n",
        "no_terms= 8\n",
        "for i in range(no_terms):\n",
        "    term = f_term + ( i * diff_term )\n",
        "    print(term, end= \"...\")"
      ]
    },
    {
      "cell_type": "markdown",
      "id": "c4854163-d14e-44ef-ab1d-66f9d715091e",
      "metadata": {
        "id": "c4854163-d14e-44ef-ab1d-66f9d715091e"
      },
      "source": [
        "10. Write a Python program to print the first 6 terms of a geometric sequence starting\n",
        "with 2 and having a common ratio of 3.\n",
        "The program should output the following sequence:\n",
        "2 6 18 54 162 486"
      ]
    },
    {
      "cell_type": "code",
      "execution_count": null,
      "id": "90691fb1-4458-4bfe-98dd-e1d1b0564404",
      "metadata": {
        "id": "90691fb1-4458-4bfe-98dd-e1d1b0564404",
        "outputId": "e6277707-874f-48c1-9a82-ae7c2182b966"
      },
      "outputs": [
        {
          "name": "stdout",
          "output_type": "stream",
          "text": [
            "2...6...18...54...162...486..."
          ]
        }
      ],
      "source": [
        "f_term = 2\n",
        "diff_term = 3\n",
        "no_terms= 6\n",
        "for i in range(no_terms):\n",
        "    term = f_term * (diff_term **i )\n",
        "    print(term, end= \"...\")"
      ]
    },
    {
      "cell_type": "markdown",
      "id": "2eb33157-cab7-4f8d-91c4-e5bf03fd96eb",
      "metadata": {
        "id": "2eb33157-cab7-4f8d-91c4-e5bf03fd96eb"
      },
      "source": [
        "11. Write a program that asks the user for a positive integer value. The program should\n",
        "calculate the sum of all the integers from 1 up to the number entered. For example, if\n",
        "the user enters 20, the loop will find the sum of 1, 2, 3, 4, ... 20.`"
      ]
    },
    {
      "cell_type": "code",
      "execution_count": null,
      "id": "4c9e1c87-f99b-46b3-9dc3-f387fa643deb",
      "metadata": {
        "id": "4c9e1c87-f99b-46b3-9dc3-f387fa643deb",
        "outputId": "56055477-2955-423c-920e-0917114a26ba"
      },
      "outputs": [
        {
          "name": "stdin",
          "output_type": "stream",
          "text": [
            "enter a number : 20\n"
          ]
        },
        {
          "name": "stdout",
          "output_type": "stream",
          "text": [
            "210\n"
          ]
        }
      ],
      "source": [
        "n= int(input('enter a number :'))\n",
        "for i in range(1,n+1):\n",
        "    total_sum = n * (n+1) // 2\n",
        "print(total_sum)"
      ]
    },
    {
      "cell_type": "markdown",
      "id": "f816de12-6929-4021-88d5-e6d3630eb380",
      "metadata": {
        "id": "f816de12-6929-4021-88d5-e6d3630eb380"
      },
      "source": [
        "12. write a program that takes a positive integer N as input and calculates the sum of\n",
        "the reciprocals of all numbers from 1 up to N. The program should display the final sum.\n",
        "Output of the program should be like:\n",
        "Enter a positive integer: 5\n",
        "The sum of reciprocals from 1 to 5 is: 2.28`"
      ]
    },
    {
      "cell_type": "code",
      "execution_count": null,
      "id": "2e338741-bab5-4a4d-9e55-a60415fc7f56",
      "metadata": {
        "id": "2e338741-bab5-4a4d-9e55-a60415fc7f56",
        "outputId": "22666bb9-8f3b-4c1f-98c6-c89c5b6f4a3e"
      },
      "outputs": [
        {
          "name": "stdin",
          "output_type": "stream",
          "text": [
            "enter a number : 10\n"
          ]
        },
        {
          "name": "stdout",
          "output_type": "stream",
          "text": [
            "2.9289682539682538\n"
          ]
        }
      ],
      "source": [
        "n= int(input('enter a number :'))\n",
        "reciprocal_sum = 0\n",
        "for i in range(1,n+1):\n",
        "    reciprocal_sum += 1/i\n",
        "print(reciprocal_sum)"
      ]
    },
    {
      "cell_type": "markdown",
      "id": "5018f5a5-fe51-487b-a35e-e79188e19502",
      "metadata": {
        "id": "5018f5a5-fe51-487b-a35e-e79188e19502"
      },
      "source": [
        "13. Write a program that prompts the user to enter a number and repeats this process 5\n",
        "times. The program should accumulate the numbers entered and then display the final\n",
        "running total.\n",
        "Sample Output:\n",
        "Enter a number: 10\n",
        "Enter a number: 15\n",
        "Enter a number: 35\n",
        "Enter a number: 40\n",
        "Enter a number: 50\n",
        "The final running total is: 150"
      ]
    },
    {
      "cell_type": "code",
      "execution_count": null,
      "id": "4af90e6e-d892-4124-92ed-67f0b6ba8235",
      "metadata": {
        "id": "4af90e6e-d892-4124-92ed-67f0b6ba8235",
        "outputId": "0343f210-b7ad-4947-8eb0-66a0c1f35ab3"
      },
      "outputs": [
        {
          "name": "stdin",
          "output_type": "stream",
          "text": [
            "input a number  5\n"
          ]
        },
        {
          "name": "stdout",
          "output_type": "stream",
          "text": [
            "5\n"
          ]
        },
        {
          "name": "stdin",
          "output_type": "stream",
          "text": [
            "input a number  4\n"
          ]
        },
        {
          "name": "stdout",
          "output_type": "stream",
          "text": [
            "9\n"
          ]
        },
        {
          "name": "stdin",
          "output_type": "stream",
          "text": [
            "input a number  4\n"
          ]
        },
        {
          "name": "stdout",
          "output_type": "stream",
          "text": [
            "13\n"
          ]
        },
        {
          "name": "stdin",
          "output_type": "stream",
          "text": [
            "input a number  4\n"
          ]
        },
        {
          "name": "stdout",
          "output_type": "stream",
          "text": [
            "17\n"
          ]
        },
        {
          "name": "stdin",
          "output_type": "stream",
          "text": [
            "input a number  4\n"
          ]
        },
        {
          "name": "stdout",
          "output_type": "stream",
          "text": [
            "21\n"
          ]
        }
      ],
      "source": [
        "running_total= 0\n",
        "for i in range(5):\n",
        "    n= int (input('input a number '))\n",
        "    running_total += n\n",
        "    print(running_total)"
      ]
    },
    {
      "cell_type": "markdown",
      "id": "e5e7d418-6d0e-41ad-8bc5-99539353fe64",
      "metadata": {
        "id": "e5e7d418-6d0e-41ad-8bc5-99539353fe64"
      },
      "source": [
        "14. Write a program that prompts the user to enter a positive integer and calculates its\n",
        "factorial. The factorial of a positive integer 'n' is denoted as 'n!' and is calculated by\n",
        "multiplying all the integers from 1 to 'n' together. For example, the factorial of 5\n",
        "(denoted as 5!) is calculated as 1 x 2 x 3 x 4 x 5.\n",
        "The program should display the factorial value if the input is a positive number, or\n",
        "display a message stating that the factorial does not exist for negative numbers.\n",
        "Additionally, for an input of zero, the program should output that the factorial of 0 is 1."
      ]
    },
    {
      "cell_type": "code",
      "execution_count": null,
      "id": "5d6ba7f8-3350-4991-9521-a132b6f1bc1f",
      "metadata": {
        "id": "5d6ba7f8-3350-4991-9521-a132b6f1bc1f",
        "outputId": "0b770db6-d7ef-4448-8439-39b754774794"
      },
      "outputs": [
        {
          "name": "stdin",
          "output_type": "stream",
          "text": [
            " enter a positive interger :  5\n"
          ]
        },
        {
          "name": "stdout",
          "output_type": "stream",
          "text": [
            " the factorial of 5 is 120\n"
          ]
        }
      ],
      "source": [
        "n= int(input(\" enter a positive interger : \"))\n",
        "if n < 0:\n",
        "    print(\"factorial does not exists for negative number\")\n",
        "elif n == 0 :\n",
        "    print(\" the factorial of o is 1\")\n",
        "else:\n",
        "    factorial = 1\n",
        "    for i in range(1,n+1):\n",
        "        factorial *= i\n",
        "print(f\" the factorial of {n} is {factorial}\")\n",
        "\n"
      ]
    },
    {
      "cell_type": "markdown",
      "id": "d33d27fb-795c-46a4-8399-3132365a2f5b",
      "metadata": {
        "id": "d33d27fb-795c-46a4-8399-3132365a2f5b"
      },
      "source": [
        "15. Write a Python program that prompts the user to enter a base number and an\n",
        "exponent, and then calculates the power of the base to the exponent. The program\n",
        "should not use the exponentiation operator (**) or the math.pow() function. The\n",
        "program should handle both positive and negative exponents."
      ]
    },
    {
      "cell_type": "code",
      "execution_count": null,
      "id": "96a24b02-1437-4536-a38b-d114c2445f58",
      "metadata": {
        "id": "96a24b02-1437-4536-a38b-d114c2445f58",
        "outputId": "bcb2ce43-e27b-438f-ffba-af3d2e6f7c35"
      },
      "outputs": [
        {
          "name": "stdin",
          "output_type": "stream",
          "text": [
            "enter a base number : 2\n",
            "enter a exponent number : -3\n"
          ]
        },
        {
          "name": "stdout",
          "output_type": "stream",
          "text": [
            " 2 raised to the power of -3 is 0.125 \n"
          ]
        }
      ],
      "source": [
        "base= int(input(\"enter a base number :\"))\n",
        "exponent = int(input(\"enter a exponent number :\"))\n",
        "result= 1\n",
        "if exponent > 0:\n",
        "    for i in range( exponent):\n",
        "        result*= base\n",
        "elif exponent < 0:\n",
        "    for i in range(abs(exponent)):\n",
        "        result *= base\n",
        "    result = (1/ result)\n",
        "else:\n",
        "    result= 1\n",
        "print(f\" {base} raised to the power of {exponent} is {result} \")"
      ]
    }
  ],
  "metadata": {
    "kernelspec": {
      "display_name": "Python 3 (ipykernel)",
      "language": "python",
      "name": "python3"
    },
    "language_info": {
      "codemirror_mode": {
        "name": "ipython",
        "version": 3
      },
      "file_extension": ".py",
      "mimetype": "text/x-python",
      "name": "python",
      "nbconvert_exporter": "python",
      "pygments_lexer": "ipython3",
      "version": "3.12.7"
    },
    "colab": {
      "provenance": []
    }
  },
  "nbformat": 4,
  "nbformat_minor": 5
}