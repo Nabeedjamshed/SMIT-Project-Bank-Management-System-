{
  "cells": [
    {
      "cell_type": "markdown",
      "id": "6105e60c-d00b-4fe7-9ac9-88a601354e57",
      "metadata": {
        "id": "6105e60c-d00b-4fe7-9ac9-88a601354e57"
      },
      "source": [
        "## List Assignment"
      ]
    },
    {
      "cell_type": "markdown",
      "id": "f96e0b28-7285-45e0-8e01-1369184d5a7c",
      "metadata": {
        "id": "f96e0b28-7285-45e0-8e01-1369184d5a7c"
      },
      "source": [
        "1. Write a program that accepts a list from user and print the alternate element of list."
      ]
    },
    {
      "cell_type": "code",
      "execution_count": null,
      "id": "df1e549c-64f7-4881-afd4-8b88ee213afd",
      "metadata": {
        "id": "df1e549c-64f7-4881-afd4-8b88ee213afd",
        "outputId": "61b5dff9-eae3-46fe-b5e2-a3388ecd7dc7"
      },
      "outputs": [
        {
          "name": "stdin",
          "output_type": "stream",
          "text": [
            "Enter a list of elements separated by spaces:  apple, mango\n"
          ]
        },
        {
          "name": "stdout",
          "output_type": "stream",
          "text": [
            "Alternate elements of the list:\n",
            "apple,\n",
            "mango\n"
          ]
        }
      ],
      "source": [
        "user_input = input(\"Enter a list of elements separated by spaces: \")\n",
        "elements = user_input.split()\n",
        "print(\"Alternate elements of the list:\")\n",
        "for i in range(0, len(elements)):\n",
        "    print(elements[i])"
      ]
    },
    {
      "cell_type": "markdown",
      "id": "01ff3d26-e696-40ad-b750-8be6d58ede8f",
      "metadata": {
        "id": "01ff3d26-e696-40ad-b750-8be6d58ede8f"
      },
      "source": [
        "2. Write a program that accepts a list from user. Your program should reverse the content of list and\n",
        "display it. Do not use reverse() method."
      ]
    },
    {
      "cell_type": "code",
      "execution_count": null,
      "id": "c8a5ea6a-596c-49aa-9135-66311a7b8a2c",
      "metadata": {
        "id": "c8a5ea6a-596c-49aa-9135-66311a7b8a2c",
        "outputId": "37ea155c-40a5-48ed-fff4-7e5d53992a2b"
      },
      "outputs": [
        {
          "name": "stdin",
          "output_type": "stream",
          "text": [
            "Enter a list of elements separated by spaces:  ab, bb, cc, dd\n"
          ]
        },
        {
          "name": "stdout",
          "output_type": "stream",
          "text": [
            "Reversed list: ['dd', 'cc,', 'bb,', 'ab,']\n"
          ]
        }
      ],
      "source": [
        "user_input = input(\"Enter a list of elements separated by spaces: \")\n",
        "elements = user_input.split()\n",
        "reversed_list = []\n",
        "for i in range(len(elements)-1, -1,-1):\n",
        "    reversed_list.append(elements[i])\n",
        "print(\"Reversed list:\", reversed_list)"
      ]
    },
    {
      "cell_type": "markdown",
      "id": "5b31fe43-2ad2-4a01-ab7b-64a0acf39718",
      "metadata": {
        "id": "5b31fe43-2ad2-4a01-ab7b-64a0acf39718"
      },
      "source": [
        "3. Find and display the largest number of a list without using built-in function max(). Your program\n",
        "should ask the user to input values in list from keyboard."
      ]
    },
    {
      "cell_type": "code",
      "execution_count": null,
      "id": "a3c8bc2d-192f-4f97-a1b7-d797e4ef59aa",
      "metadata": {
        "id": "a3c8bc2d-192f-4f97-a1b7-d797e4ef59aa",
        "outputId": "c3a403ea-fb7d-4882-f23e-67ecc3c304c3"
      },
      "outputs": [
        {
          "name": "stdin",
          "output_type": "stream",
          "text": [
            "Enter a list of numbers separated by spaces:  10 11 12 14 44 55 66 \n"
          ]
        },
        {
          "name": "stdout",
          "output_type": "stream",
          "text": [
            "The largest number in the list is: 66\n"
          ]
        }
      ],
      "source": [
        "user_input = input(\"Enter a list of numbers separated by spaces: \")\n",
        "elements = user_input.split()\n",
        "numbers = [int(i) for i in elements]\n",
        "largest = numbers[0]\n",
        "for num in numbers:\n",
        "    if num > largest:\n",
        "        largest = num\n",
        "print(\"The largest number in the list is:\", largest)"
      ]
    },
    {
      "cell_type": "markdown",
      "id": "8013aa31-73b6-49ce-9230-5f0a7d91efa7",
      "metadata": {
        "id": "8013aa31-73b6-49ce-9230-5f0a7d91efa7"
      },
      "source": [
        "4. Write a program that rotates the element of a list so that the element at the first index moves to the\n",
        "second index, the element in the second index moves to the third index, etc., and the element in the last\n",
        "index moves to the first index."
      ]
    },
    {
      "cell_type": "code",
      "execution_count": null,
      "id": "03b46673-08ce-473e-b829-a4b05b601f58",
      "metadata": {
        "id": "03b46673-08ce-473e-b829-a4b05b601f58",
        "outputId": "99c60e39-8605-4e23-f890-fae66a029279"
      },
      "outputs": [
        {
          "name": "stdin",
          "output_type": "stream",
          "text": [
            "Enter a list of elements separated by spaces:  22 33 44 55 \n"
          ]
        },
        {
          "name": "stdout",
          "output_type": "stream",
          "text": [
            "The rotated list is: ['33', '44', '55', '22']\n"
          ]
        }
      ],
      "source": [
        "user_input = input(\"Enter a list of elements separated by spaces: \")\n",
        "elements = user_input.split()\n",
        "if len(elements) > 1:\n",
        "    first_element = elements.pop(0)\n",
        "    elements.append(first_element)\n",
        "print(\"The rotated list is:\", elements)"
      ]
    },
    {
      "cell_type": "markdown",
      "id": "24591856-8e96-4899-9221-a49be4a74632",
      "metadata": {
        "id": "24591856-8e96-4899-9221-a49be4a74632"
      },
      "source": [
        "5. Write a program that input a string and ask user to delete a given word from a string."
      ]
    },
    {
      "cell_type": "code",
      "execution_count": null,
      "id": "cf6c6f0d-5826-4536-8b5d-a8957da8f443",
      "metadata": {
        "id": "cf6c6f0d-5826-4536-8b5d-a8957da8f443",
        "outputId": "5e788219-aedc-4c7a-b0c3-90f6307b3434"
      },
      "outputs": [
        {
          "name": "stdin",
          "output_type": "stream",
          "text": [
            "Enter a string:  my name is asif\n",
            "Enter the word to delete from the string:  delete\n"
          ]
        },
        {
          "name": "stdout",
          "output_type": "stream",
          "text": [
            "Modified string: my name is asif\n"
          ]
        }
      ],
      "source": [
        "original_string = input(\"Enter a string: \")\n",
        "word_to_delete = input(\"Enter the word to delete from the string: \")\n",
        "modified_string = original_string.replace(word_to_delete, \"\")\n",
        "print(\"Modified string:\", modified_string)"
      ]
    },
    {
      "cell_type": "markdown",
      "id": "d3c1288b-be29-49ce-ad16-641453d8a62b",
      "metadata": {
        "id": "d3c1288b-be29-49ce-ad16-641453d8a62b"
      },
      "source": [
        "6. Write a program that reads a string from the user containing a date in the form mm/dd/yyyy. It\n",
        "should print the date in the form March 12, 2021."
      ]
    },
    {
      "cell_type": "code",
      "execution_count": null,
      "id": "4d2eabb7-33af-4a67-9c32-fa329ea187cf",
      "metadata": {
        "id": "4d2eabb7-33af-4a67-9c32-fa329ea187cf",
        "outputId": "0ef9bb9e-343b-4adb-d55d-16120c80905b"
      },
      "outputs": [
        {
          "name": "stdin",
          "output_type": "stream",
          "text": [
            "Enter the date in mm/dd/yyyy format:  12/14/2024\n"
          ]
        },
        {
          "name": "stdout",
          "output_type": "stream",
          "text": [
            "December 14, 2024\n"
          ]
        }
      ],
      "source": [
        "date_string = input(\"Enter the date in mm/dd/yyyy format: \")\n",
        "month, day, year = date_string.split('/')\n",
        "month_names = {\n",
        "    '01': 'January', '02': 'February', '03': 'March', '04': 'April',\n",
        "    '05': 'May', '06': 'June', '07': 'July', '08': 'August',\n",
        "    '09': 'September', '10': 'October', '11': 'November', '12': 'December'\n",
        "}\n",
        "month_name = month_names.get(month, \"Invalid month\")\n",
        "print(f\"{month_name} {int(day)}, {year}\")\n"
      ]
    },
    {
      "cell_type": "markdown",
      "id": "c9c5c507-bfa7-40fd-b5c5-35fe3442e62d",
      "metadata": {
        "id": "c9c5c507-bfa7-40fd-b5c5-35fe3442e62d"
      },
      "source": [
        "7. Write a program with a function that accepts a string from keyboard and create a new string after\n",
        "converting character of each word capitalized. For instance, if the sentence is \"stop and smell the roses.\"\n",
        "the output should be \"Stop And Smell The Roses\""
      ]
    },
    {
      "cell_type": "code",
      "execution_count": null,
      "id": "a55aa512-e16f-432c-bfe5-e3622f3a7717",
      "metadata": {
        "id": "a55aa512-e16f-432c-bfe5-e3622f3a7717",
        "outputId": "cfb6aed3-c5cd-412f-d604-5b5445b46617"
      },
      "outputs": [
        {
          "name": "stdin",
          "output_type": "stream",
          "text": [
            "Enter a sentence:  MY NAME IS ASIF\n"
          ]
        },
        {
          "name": "stdout",
          "output_type": "stream",
          "text": [
            "Capitalized sentence: My Name Is Asif\n"
          ]
        }
      ],
      "source": [
        "def capitalize_words(sentence):\n",
        "    words = sentence.split()\n",
        "    capitalized_words = [word.capitalize() for word in words]\n",
        "    result = ' '.join(capitalized_words)\n",
        "    return result\n",
        "user_input = input(\"Enter a sentence: \")\n",
        "output = capitalize_words(user_input)\n",
        "print(\"Capitalized sentence:\", output)"
      ]
    },
    {
      "cell_type": "markdown",
      "id": "bb3ea5d5-528d-4aea-9753-50c5f862796f",
      "metadata": {
        "id": "bb3ea5d5-528d-4aea-9753-50c5f862796f"
      },
      "source": [
        "8. Find the sum of each row of matrix of size m x n. For example for the following matrix output will be\n",
        "like this :\n",
        "Sum of row 1 = 32\n",
        "Sum of row 2 = 31\n",
        "Sum of row 3 = 63\n",
        "\n",
        "![image.png](attachment:2c744952-0b30-49e8-8c23-a0b42093763f.png)"
      ]
    },
    {
      "cell_type": "code",
      "execution_count": 1,
      "id": "6e03704e-3b08-4fa8-a74b-17f677dd36e1",
      "metadata": {
        "id": "6e03704e-3b08-4fa8-a74b-17f677dd36e1",
        "outputId": "91c5c87d-2f8d-4166-fd7d-bd248d86e992",
        "colab": {
          "base_uri": "https://localhost:8080/"
        }
      },
      "outputs": [
        {
          "output_type": "stream",
          "name": "stdout",
          "text": [
            "Sum of row 1 = 32\n",
            "Sum of row 2 = 31\n",
            "Sum of row 3 = 63\n"
          ]
        }
      ],
      "source": [
        "def sum_of_rows(matrix):\n",
        "    for i, row in enumerate(matrix):\n",
        "        row_sum = sum(row)\n",
        "        print(f\"Sum of row {i + 1} = {row_sum}\")\n",
        "\n",
        "matrix = [\n",
        "    [8, 2, 1, 1, 20],\n",
        "    [7, 10, 10, 4, 0],\n",
        "    [1, 1, 10, 20, 31]\n",
        "]\n",
        "\n",
        "sum_of_rows(matrix)"
      ]
    },
    {
      "cell_type": "markdown",
      "id": "131790ca-6583-4c7f-aeb2-9708b9902162",
      "metadata": {
        "id": "131790ca-6583-4c7f-aeb2-9708b9902162"
      },
      "source": [
        "9. Write a program to add two matrices of size n x m."
      ]
    },
    {
      "cell_type": "code",
      "execution_count": 4,
      "id": "1e888685-ee6c-4411-b6fe-f9ae8742c1ea",
      "metadata": {
        "id": "1e888685-ee6c-4411-b6fe-f9ae8742c1ea",
        "outputId": "2bbf9948-576c-4f2c-d04b-eb619da90fc2",
        "colab": {
          "base_uri": "https://localhost:8080/"
        }
      },
      "outputs": [
        {
          "output_type": "stream",
          "name": "stdout",
          "text": [
            "[[10, 10, 10], [10, 10, 10], [10, 10, 10]]\n"
          ]
        }
      ],
      "source": [
        "def add_matrices(matrix1, matrix2):\n",
        "    rows1 = len(matrix1)\n",
        "    cols1 = len(matrix1[0]) if rows1 > 0 else 0\n",
        "    rows2 = len(matrix2)\n",
        "    cols2 = len(matrix2[0]) if rows2 > 0 else 0\n",
        "\n",
        "    if rows1 != rows2 or cols1 != cols2:\n",
        "        print(\"Matrices cannot be added due to incompatible dimensions.\")\n",
        "        return None\n",
        "\n",
        "    result_matrix = []\n",
        "    for i in range(rows1):\n",
        "        row = []\n",
        "        for j in range(cols1):\n",
        "            row.append(matrix1[i][j] + matrix2[i][j])\n",
        "        result_matrix.append(row)\n",
        "\n",
        "    return result_matrix\n",
        "\n",
        "matrix1 = [\n",
        "    [1, 2, 3],\n",
        "    [4, 5, 6],\n",
        "    [7, 8, 9]\n",
        "]\n",
        "matrix2 = [\n",
        "    [9, 8, 7],\n",
        "    [6, 5, 4],\n",
        "    [3, 2, 1]\n",
        "]\n",
        "\n",
        "result = add_matrices(matrix1, matrix2)\n",
        "print(result)\n"
      ]
    },
    {
      "cell_type": "markdown",
      "id": "d191e8b8-2215-416e-b60d-4da277b72573",
      "metadata": {
        "id": "d191e8b8-2215-416e-b60d-4da277b72573"
      },
      "source": [
        "10. Write a program to multiply two matrices"
      ]
    },
    {
      "cell_type": "code",
      "execution_count": 5,
      "id": "14fba52b-cca5-4d23-a1aa-39cbbd839043",
      "metadata": {
        "id": "14fba52b-cca5-4d23-a1aa-39cbbd839043",
        "outputId": "9e0d1aca-8a57-489b-9469-ad7e18d03b3b",
        "colab": {
          "base_uri": "https://localhost:8080/"
        }
      },
      "outputs": [
        {
          "output_type": "stream",
          "name": "stdout",
          "text": [
            "Resultant Matrix:\n",
            "[58, 64]\n",
            "[139, 154]\n"
          ]
        }
      ],
      "source": [
        "def matrix_multiply(A, B):\n",
        "    rows_A = len(A)\n",
        "    cols_A = len(A[0])\n",
        "    rows_B = len(B)\n",
        "    cols_B = len(B[0])\n",
        "\n",
        "    if cols_A != rows_B:\n",
        "        print(\"Matrix multiplication is not possible!\")\n",
        "        return\n",
        "\n",
        "    result = [[0 for _ in range(cols_B)] for _ in range(rows_A)]\n",
        "\n",
        "    for i in range(rows_A):\n",
        "        for j in range(cols_B):\n",
        "            for k in range(cols_A):\n",
        "                result[i][j] += A[i][k] * B[k][j]\n",
        "\n",
        "    return result\n",
        "\n",
        "A = [\n",
        "    [1, 2, 3],\n",
        "    [4, 5, 6]\n",
        "]\n",
        "\n",
        "B = [\n",
        "    [7, 8],\n",
        "    [9, 10],\n",
        "    [11, 12]\n",
        "]\n",
        "\n",
        "result = matrix_multiply(A, B)\n",
        "\n",
        "if result:\n",
        "    print(\"Resultant Matrix:\")\n",
        "    for row in result:\n",
        "        print(row)\n"
      ]
    },
    {
      "cell_type": "markdown",
      "id": "bfa56c44-5ba6-42a5-92d3-d5e47125a4ee",
      "metadata": {
        "id": "bfa56c44-5ba6-42a5-92d3-d5e47125a4ee"
      },
      "source": [
        "# Conditional Structures"
      ]
    },
    {
      "cell_type": "markdown",
      "id": "1ef07966-f2c4-46fe-b354-9cf9333b88b8",
      "metadata": {
        "id": "1ef07966-f2c4-46fe-b354-9cf9333b88b8"
      },
      "source": [
        "1. Write a program that prompts the user to input a number and display if the number\n",
        "is even or odd."
      ]
    },
    {
      "cell_type": "code",
      "execution_count": null,
      "id": "e8dd8238-bc03-4769-9006-d6cc91a67846",
      "metadata": {
        "id": "e8dd8238-bc03-4769-9006-d6cc91a67846",
        "outputId": "4fda575e-7ba7-44a9-aed5-457195f1dcc0"
      },
      "outputs": [
        {
          "name": "stdin",
          "output_type": "stream",
          "text": [
            "Enter a number:  3\n"
          ]
        },
        {
          "name": "stdout",
          "output_type": "stream",
          "text": [
            "3 is odd.\n"
          ]
        }
      ],
      "source": [
        "number = int(input(\"Enter a number: \"))\n",
        "if number % 2 == 0:\n",
        "    print(f\"{number} is even.\")\n",
        "else:\n",
        "    print(f\"{number} is odd.\")"
      ]
    },
    {
      "cell_type": "markdown",
      "id": "d426247f-e661-41bd-94eb-f2896b9b2582",
      "metadata": {
        "id": "d426247f-e661-41bd-94eb-f2896b9b2582"
      },
      "source": [
        "2. Write a Python program that takes an age as input and determines whether a person\n",
        "is eligible to vote. If the age is 18 or above, print \"You are eligible to vote.\" Otherwise,\n",
        "print \"You are not eligible to vote yet.\"."
      ]
    },
    {
      "cell_type": "code",
      "execution_count": null,
      "id": "22169a82-6cf1-4fea-ba06-157a568a027c",
      "metadata": {
        "id": "22169a82-6cf1-4fea-ba06-157a568a027c",
        "outputId": "cd88bac3-17dc-49c3-c744-b77990493fb2"
      },
      "outputs": [
        {
          "name": "stdin",
          "output_type": "stream",
          "text": [
            "Enter your age:  15\n"
          ]
        },
        {
          "name": "stdout",
          "output_type": "stream",
          "text": [
            "You are not eligible to vote yet.\n"
          ]
        }
      ],
      "source": [
        "age = int(input(\"Enter your age: \"))\n",
        "if age >= 18:\n",
        "    print(\"You are eligible to vote.\")\n",
        "else:\n",
        "    print(\"You are not eligible to vote yet.\")"
      ]
    },
    {
      "cell_type": "markdown",
      "id": "7dc62a55-adbb-45f9-a9db-c1b8ece577f6",
      "metadata": {
        "id": "7dc62a55-adbb-45f9-a9db-c1b8ece577f6"
      },
      "source": [
        "3. Write a program that prompts the user to input two integers and outputs the largest."
      ]
    },
    {
      "cell_type": "code",
      "execution_count": null,
      "id": "b5f07c0e-2c87-41c2-ad5e-460e0965ee61",
      "metadata": {
        "id": "b5f07c0e-2c87-41c2-ad5e-460e0965ee61",
        "outputId": "5b8fb2bf-ae4c-4e5e-b2b5-5b2d3beaf450"
      },
      "outputs": [
        {
          "name": "stdin",
          "output_type": "stream",
          "text": [
            "Enter the first integer:  4\n",
            "Enter the second integer:  2\n"
          ]
        },
        {
          "name": "stdout",
          "output_type": "stream",
          "text": [
            "The largest number is 4.\n"
          ]
        }
      ],
      "source": [
        "num1 = int(input(\"Enter the first integer: \"))\n",
        "num2 = int(input(\"Enter the second integer: \"))\n",
        "if num1 > num2:\n",
        "    print(f\"The largest number is {num1}.\")\n",
        "elif num2 > num1:\n",
        "    print(f\"The largest number is {num2}.\")\n",
        "else:\n",
        "    print(\"Both numbers are equal.\")"
      ]
    },
    {
      "cell_type": "markdown",
      "id": "59b557ba-c6f5-4c6d-b477-6c4f137062a3",
      "metadata": {
        "id": "59b557ba-c6f5-4c6d-b477-6c4f137062a3"
      },
      "source": [
        "4. Write a program that prompts the user to enter a number and determines whether it\n",
        "is positive, negative, or zero. The program should print \"Positive\" if the number is\n",
        "greater than 0, \"Negative\" if the number is less than 0, and \"Zero\" if the number is 0."
      ]
    },
    {
      "cell_type": "code",
      "execution_count": null,
      "id": "00b00041-8f2c-49cd-b4c6-0618c155b68c",
      "metadata": {
        "id": "00b00041-8f2c-49cd-b4c6-0618c155b68c",
        "outputId": "a29e7a7f-7cf1-455e-b49c-7cb83d777fcc"
      },
      "outputs": [
        {
          "name": "stdin",
          "output_type": "stream",
          "text": [
            "Enter a number:  4\n"
          ]
        },
        {
          "name": "stdout",
          "output_type": "stream",
          "text": [
            "Positive\n"
          ]
        }
      ],
      "source": [
        "number = float(input(\"Enter a number: \"))\n",
        "if number > 0:\n",
        "    print(\"Positive\")\n",
        "elif number < 0:\n",
        "    print(\"Negative\")\n",
        "else:\n",
        "    print(\"Zero\")"
      ]
    },
    {
      "cell_type": "markdown",
      "id": "26abb77e-9c44-49e1-844c-426797d5f94f",
      "metadata": {
        "id": "26abb77e-9c44-49e1-844c-426797d5f94f"
      },
      "source": [
        "5. Write a program that prompts the user to enter their age and prints the\n",
        "corresponding age group. The program should use the following age groups:\n",
        "0-12: Child\n",
        "13-19: Teenager\n",
        "20-59: Adult\n",
        "60 and above: Senior Citizen"
      ]
    },
    {
      "cell_type": "code",
      "execution_count": null,
      "id": "e9f5a698-d307-475d-a07c-36a75b028829",
      "metadata": {
        "id": "e9f5a698-d307-475d-a07c-36a75b028829",
        "outputId": "52dea189-89ef-45e2-85d4-a4037b84c8c3"
      },
      "outputs": [
        {
          "name": "stdin",
          "output_type": "stream",
          "text": [
            "Enter your age:  12\n"
          ]
        },
        {
          "name": "stdout",
          "output_type": "stream",
          "text": [
            "Child\n"
          ]
        }
      ],
      "source": [
        "age = int(input(\"Enter your age: \"))\n",
        "if 0 <= age <= 12:\n",
        "    print(\"Child\")\n",
        "elif 13 <= age <= 19:\n",
        "    print(\"Teenager\")\n",
        "elif 20 <= age <= 59:\n",
        "    print(\"Adult\")\n",
        "elif age >= 60:\n",
        "    print(\"Senior Citizen\")\n",
        "else:\n",
        "    print(\"Invalid age.\")"
      ]
    },
    {
      "cell_type": "markdown",
      "id": "22664018-1221-447c-8539-90302608f49d",
      "metadata": {
        "id": "22664018-1221-447c-8539-90302608f49d"
      },
      "source": [
        "6. Write a program that prompts the user to input a number from 1 to 7. The program\n",
        "should display the corresponding day for the given number. For example, if the user\n",
        "types 1, the output should be Sunday. If the user types 7, the output should be\n",
        "Saturday. If the number is not between 1 to 7 user should get error message as shown\n",
        "in sample output."
      ]
    },
    {
      "cell_type": "code",
      "execution_count": null,
      "id": "093b31fb-8fba-41bc-b504-74b5a554269e",
      "metadata": {
        "id": "093b31fb-8fba-41bc-b504-74b5a554269e",
        "outputId": "d0eb912d-a0c4-4044-e69b-4c057044c927"
      },
      "outputs": [
        {
          "name": "stdin",
          "output_type": "stream",
          "text": [
            "Enter a number between 1 and 7:  3\n"
          ]
        },
        {
          "name": "stdout",
          "output_type": "stream",
          "text": [
            "Tuesday\n"
          ]
        }
      ],
      "source": [
        "day_number = int(input(\"Enter a number between 1 and 7: \"))\n",
        "if day_number == 1:\n",
        "    print(\"Sunday\")\n",
        "elif day_number == 2:\n",
        "    print(\"Monday\")\n",
        "elif day_number == 3:\n",
        "    print(\"Tuesday\")\n",
        "elif day_number == 4:\n",
        "    print(\"Wednesday\")\n",
        "elif day_number == 5:\n",
        "    print(\"Thursday\")\n",
        "elif day_number == 6:\n",
        "    print(\"Friday\")\n",
        "elif day_number == 7:\n",
        "    print(\"Saturday\")\n",
        "else:\n",
        "    print(\"Error: Please enter a number between 1 and 7.\")"
      ]
    },
    {
      "cell_type": "markdown",
      "id": "9fa4264b-2073-4495-8ed2-5056f44bfa98",
      "metadata": {
        "id": "9fa4264b-2073-4495-8ed2-5056f44bfa98"
      },
      "source": [
        "7. Write a program that prompts the user to enter their weight (in kilograms) and height\n",
        "(in meters). The program should calculate the Body Mass Index (BMI) using the formula:\n",
        "BMI = weight / (height * height). The program should then classify the BMI into one of\n",
        "the following categories:\n",
        "less than 18.5 - Underweight\n",
        "BMI between 18.5 and 24.9 - Normal weight\n",
        "BMI between 25 and 29.9 - Overweight\n",
        "BMI 30 or greater - Obesity"
      ]
    },
    {
      "cell_type": "code",
      "execution_count": null,
      "id": "dac95613-2e8d-4144-903d-c456b8bb46ea",
      "metadata": {
        "id": "dac95613-2e8d-4144-903d-c456b8bb46ea",
        "outputId": "15ce203a-1cb9-4ebd-ae01-584187f09c9e"
      },
      "outputs": [
        {
          "name": "stdin",
          "output_type": "stream",
          "text": [
            "Enter your weight in kilograms:  70\n",
            "Enter your height in meters:  5.7\n"
          ]
        },
        {
          "name": "stdout",
          "output_type": "stream",
          "text": [
            "Your BMI is: 2.154509079716836\n",
            "Classification: Underweight\n"
          ]
        }
      ],
      "source": [
        "weight = float(input(\"Enter your weight in kilograms: \"))\n",
        "height = float(input(\"Enter your height in meters: \"))\n",
        "bmi = weight / (height * height)\n",
        "if bmi < 18.5:\n",
        "    classification = \"Underweight\"\n",
        "elif 18.5 <= bmi <= 24.9:\n",
        "    classification = \"Normal weight\"\n",
        "elif 25 <= bmi <= 29.9:\n",
        "    classification = \"Overweight\"\n",
        "else:\n",
        "    classification = \"Obesity\"\n",
        "print(f\"Your BMI is: {bmi}\")\n",
        "print(f\"Classification: {classification}\")\n"
      ]
    },
    {
      "cell_type": "markdown",
      "id": "11f02d09-a0e4-4017-bfda-dee93dd6c602",
      "metadata": {
        "id": "11f02d09-a0e4-4017-bfda-dee93dd6c602"
      },
      "source": [
        "8. The marks obtained by a student in 3 different subjects are input by the user. Your\n",
        "program should calculate the average of subjects and display the grade. The student\n",
        "gets a grade as per the following rules:\n",
        "Average Grade\n",
        "90-100 A\n",
        "80-89 B\n",
        "70-79 C\n",
        "60-69 D\n",
        "0-59 F"
      ]
    },
    {
      "cell_type": "code",
      "execution_count": null,
      "id": "e0f60515-2aa0-4b1a-887c-bb22edd114ad",
      "metadata": {
        "id": "e0f60515-2aa0-4b1a-887c-bb22edd114ad",
        "outputId": "86bf1042-d249-469c-831a-86629bb57b52"
      },
      "outputs": [
        {
          "name": "stdin",
          "output_type": "stream",
          "text": [
            "Enter marks for subject 1:  54\n",
            "Enter marks for subject 2:  45\n",
            "Enter marks for subject 3:  45\n"
          ]
        },
        {
          "name": "stdout",
          "output_type": "stream",
          "text": [
            "Your average mark is: 48.0\n",
            "Your grade is: F\n"
          ]
        }
      ],
      "source": [
        "mark1 = float(input(\"Enter marks for subject 1: \"))\n",
        "mark2 = float(input(\"Enter marks for subject 2: \"))\n",
        "mark3 = float(input(\"Enter marks for subject 3: \"))\n",
        "average = (mark1 + mark2 + mark3) / 3\n",
        "if 90 <= average <= 100:\n",
        "    grade = \"A\"\n",
        "elif 80 <= average < 90:\n",
        "    grade = \"B\"\n",
        "elif 70 <= average < 80:\n",
        "    grade = \"C\"\n",
        "elif 60 <= average < 70:\n",
        "    grade = \"D\"\n",
        "else:\n",
        "    grade = \"F\"\n",
        "print(f\"Your average mark is: {average}\")\n",
        "print(f\"Your grade is: {grade}\")\n"
      ]
    },
    {
      "cell_type": "markdown",
      "id": "06a7ad3d-f3b8-4f3a-a920-4efc2570c612",
      "metadata": {
        "id": "06a7ad3d-f3b8-4f3a-a920-4efc2570c612"
      },
      "source": [
        "9. The roots of the quadratic equation ax2 + bx + c = 0, a ≠ 0 are given by the following\n",
        "formula:\n",
        "In this formula, the term b2 - 4ac is called the discriminant. If b2 - 4ac = 0, then the\n",
        "equation has two equal roots.\n",
        "If b2 - 4ac > 0, the equation has two real roots. If b2 - 4ac < 0, the equation has two\n",
        "complex roots.\n",
        "Write a program that prompts the user to input the value of a (the coefficient of x2), b\n",
        "(the coefficient of x), and c (the constant term) and outputs the roots of the quadratic\n",
        "equation.\n",
        "![image.png](attachment:43edafff-8f35-49c4-bcd5-a63828179d05.png)"
      ]
    },
    {
      "cell_type": "code",
      "execution_count": null,
      "id": "5c7331ee-dc37-4a8f-9acf-c7c30ebda747",
      "metadata": {
        "id": "5c7331ee-dc37-4a8f-9acf-c7c30ebda747"
      },
      "outputs": [],
      "source": [
        "\n"
      ]
    },
    {
      "cell_type": "markdown",
      "id": "c32f74b2-fe88-47fb-becb-79ef0e0ff577",
      "metadata": {
        "id": "c32f74b2-fe88-47fb-becb-79ef0e0ff577"
      },
      "source": [
        "10. Write a program that prompts the user to enter three numbers and sorts them in\n",
        "ascending order. The program should print the sorted numbers."
      ]
    },
    {
      "cell_type": "code",
      "execution_count": null,
      "id": "58df5f10-2475-43e3-9819-304d510a61e6",
      "metadata": {
        "id": "58df5f10-2475-43e3-9819-304d510a61e6",
        "outputId": "46383820-0297-4a34-eda5-069a6ab716ed"
      },
      "outputs": [
        {
          "name": "stdin",
          "output_type": "stream",
          "text": [
            "Enter the first number:  22\n",
            "Enter the second number:  11\n",
            "Enter the third number:  33\n"
          ]
        },
        {
          "name": "stdout",
          "output_type": "stream",
          "text": [
            "The numbers in ascending order are: [11.0, 22.0, 33.0]\n"
          ]
        }
      ],
      "source": [
        "num1 = float(input(\"Enter the first number: \"))\n",
        "num2 = float(input(\"Enter the second number: \"))\n",
        "num3 = float(input(\"Enter the third number: \"))\n",
        "numbers = [num1, num2, num3]\n",
        "numbers.sort()\n",
        "print(\"The numbers in ascending order are:\", numbers)"
      ]
    },
    {
      "cell_type": "markdown",
      "id": "a4597848-d5dc-42f4-99c2-f9669d16128e",
      "metadata": {
        "id": "a4597848-d5dc-42f4-99c2-f9669d16128e"
      },
      "source": [
        "11. Write a program that prompts the user to input three integers and outputs the\n",
        "largest."
      ]
    },
    {
      "cell_type": "code",
      "execution_count": null,
      "id": "602671b1-556c-416b-8f4b-d1008f89babc",
      "metadata": {
        "id": "602671b1-556c-416b-8f4b-d1008f89babc",
        "outputId": "2b3c450b-9fab-4b67-96e8-78db002dc465"
      },
      "outputs": [
        {
          "name": "stdin",
          "output_type": "stream",
          "text": [
            "Enter the first integer:  22\n",
            "Enter the second integer:  33\n",
            "Enter the third integer:  11\n"
          ]
        },
        {
          "name": "stdout",
          "output_type": "stream",
          "text": [
            "The largest number is: 33\n"
          ]
        }
      ],
      "source": [
        "num1 = int(input(\"Enter the first integer: \"))\n",
        "num2 = int(input(\"Enter the second integer: \"))\n",
        "num3 = int(input(\"Enter the third integer: \"))\n",
        "if num1 >= num2 and num1 >= num3:\n",
        "    largest = num1\n",
        "elif num2 >= num1 and num2 >= num3:\n",
        "    largest = num2\n",
        "else:\n",
        "    largest = num3\n",
        "print(\"The largest number is:\", largest)\n"
      ]
    },
    {
      "cell_type": "markdown",
      "id": "31b37879-4f81-46f5-87b3-f5b99f3b4d24",
      "metadata": {
        "id": "31b37879-4f81-46f5-87b3-f5b99f3b4d24"
      },
      "source": [
        "12. Write a program that prompts the user to input a character and determine the\n",
        "character is vowel or consonant."
      ]
    },
    {
      "cell_type": "code",
      "execution_count": null,
      "id": "82d6aa8e-49b6-475c-8651-8c06612a3d59",
      "metadata": {
        "id": "82d6aa8e-49b6-475c-8651-8c06612a3d59",
        "outputId": "8d07223f-8c99-40f3-fdb2-25ca118bdfa0"
      },
      "outputs": [
        {
          "name": "stdin",
          "output_type": "stream",
          "text": [
            "Enter a character:  X\n"
          ]
        },
        {
          "name": "stdout",
          "output_type": "stream",
          "text": [
            "The character 'x' is a consonant.\n"
          ]
        }
      ],
      "source": [
        "char = input(\"Enter a character: \").lower()\n",
        "if char.isalpha() and len(char) == 1:\n",
        "    if char in 'aeiou':\n",
        "        print(f\"The character '{char}' is a vowel.\")\n",
        "    else:\n",
        "        print(f\"The character '{char}' is a consonant.\")\n",
        "else:\n",
        "    print(\"Please enter a valid single alphabetic character.\")\n"
      ]
    },
    {
      "cell_type": "markdown",
      "id": "1c369dfe-5429-4df1-a1e6-a2e9ce47a5a4",
      "metadata": {
        "id": "1c369dfe-5429-4df1-a1e6-a2e9ce47a5a4"
      },
      "source": [
        "13. Write a program that prompts the user to input a year and determine whether the\n",
        "year is a leap year or not.\n",
        "Leap Years are any year that can be evenly divided by 4. A year that is evenly divisible by\n",
        "100 is a leap year only if it is also evenly divisible by 400. Example:\n",
        "1992 Leap Year\n",
        "2000 Leap Year\n",
        "1900 NOT a Leap Year\n",
        "1995 NOT a Leap Year"
      ]
    },
    {
      "cell_type": "code",
      "execution_count": null,
      "id": "d94d8b13-1061-4859-9a19-a85c579f6cce",
      "metadata": {
        "id": "d94d8b13-1061-4859-9a19-a85c579f6cce",
        "outputId": "0b5faf29-baf2-4908-8040-75bcb1b744e4"
      },
      "outputs": [
        {
          "name": "stdin",
          "output_type": "stream",
          "text": [
            "Enter a year:  2024\n"
          ]
        },
        {
          "name": "stdout",
          "output_type": "stream",
          "text": [
            "2024 is a Leap Year.\n"
          ]
        }
      ],
      "source": [
        "year = int(input(\"Enter a year: \"))\n",
        "if (year % 4 == 0 and year % 100 != 0) or (year % 400 == 0):\n",
        "    print(f\"{year} is a Leap Year.\")\n",
        "else:\n",
        "    print(f\"{year} is NOT a Leap Year.\")\n"
      ]
    },
    {
      "cell_type": "markdown",
      "id": "823038c8-6511-4c13-959f-8bbfff0a7c4b",
      "metadata": {
        "id": "823038c8-6511-4c13-959f-8bbfff0a7c4b"
      },
      "source": [
        "14. Write a program that prompts the user to input number of calls and calculate the\n",
        "monthly telephone bills as per the following rule:\n",
        "Minimum Rs. 200 for up to 100 calls.\n",
        "Plus Rs. 0.60 per call for next 50 calls.\n",
        "Plus Rs. 0.50 per call for next 50 calls.\n",
        "Plus Rs. 0.40 per call for any call beyond 200 calls."
      ]
    },
    {
      "cell_type": "code",
      "execution_count": null,
      "id": "7c5bfb93-15ed-4529-bd36-9c5abf06ad50",
      "metadata": {
        "id": "7c5bfb93-15ed-4529-bd36-9c5abf06ad50",
        "outputId": "e4f9e3b1-60e1-48bb-8165-48b5e714c83a"
      },
      "outputs": [
        {
          "name": "stdin",
          "output_type": "stream",
          "text": [
            "Enter the number of calls made in a month:  12\n"
          ]
        },
        {
          "name": "stdout",
          "output_type": "stream",
          "text": [
            "Total monthly telephone bill: Rs. 200\n"
          ]
        }
      ],
      "source": [
        "calls = int(input(\"Enter the number of calls made in a month: \"))\n",
        "bill = 200\n",
        "if calls > 100:\n",
        "    # For the next 50 calls (101 to 150)\n",
        "    if calls <= 150:\n",
        "        bill += (calls - 100) * 0.60\n",
        "    else:\n",
        "        bill += 50 * 0.60  # Charge for 101 to 150 calls\n",
        "        # For the next 50 calls (151 to 200)\n",
        "        if calls <= 200:\n",
        "            bill += (calls - 150) * 0.50\n",
        "        else:\n",
        "            bill += 50 * 0.50  # Charge for 151 to 200 calls\n",
        "            # For calls beyond 200, charge 0.40 per call\n",
        "            bill += (calls - 200) * 0.40\n",
        "\n",
        "print(f\"Total monthly telephone bill: Rs. {bill}\")\n"
      ]
    }
  ],
  "metadata": {
    "kernelspec": {
      "display_name": "Python 3 (ipykernel)",
      "language": "python",
      "name": "python3"
    },
    "language_info": {
      "codemirror_mode": {
        "name": "ipython",
        "version": 3
      },
      "file_extension": ".py",
      "mimetype": "text/x-python",
      "name": "python",
      "nbconvert_exporter": "python",
      "pygments_lexer": "ipython3",
      "version": "3.12.7"
    },
    "colab": {
      "provenance": []
    }
  },
  "nbformat": 4,
  "nbformat_minor": 5
}